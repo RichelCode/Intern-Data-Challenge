{
 "cells": [
  {
   "cell_type": "markdown",
   "id": "42cd4fd4",
   "metadata": {},
   "source": [
    "# Intern Data Challenge 2025 – Population Movement Simulation\n",
    "### Prepared by: [Richel Ohenewaa Attafuah]\n",
    "\n",
    "## Objective:\n",
    "The purpose of this notebook is to estimate the future population distribution across ten geographic regions based on internal movement probabilities (`MoveProb`). This involves simulating one year of population changes under the following assumptions:\n",
    "- Movement occurs only between adjacent regions (no external migration).\n",
    "- Movement is influenced by each region's `MoveProb`, indicating the probability of residents moving out of a region.\n",
    "- The redistribution of outgoing residents is based on a defined logic.\n",
    "\n",
    "## Approach:\n",
    "The notebook is organized into the following steps:\n",
    "1. **Data Exploration:**  \n",
    "   Perform exploratory data analysis (EDA) to understand the structure, detect anomalies, and summarize key statistics.\n",
    "   \n",
    "2. **Define Movement Logic:**  \n",
    "   Set up region adjacency relationships and establish movement rules for distributing outgoing residents to adjacent regions.\n",
    "\n",
    "3. **Simulation:**  \n",
    "   Implement functions to:\n",
    "   - Calculate outgoing residents.\n",
    "   - Distribute residents to neighboring regions.\n",
    "   - Compute the new population for each region after one year.\n",
    "\n",
    "4. **Results and Visualization:**  \n",
    "   Present the updated population distribution and analyze key insights.\n",
    "\n",
    "5. **Conclusion:**  \n",
    "   Summarize findings, including assumptions, limitations, and potential improvements to the model.\n"
   ]
  },
  {
   "cell_type": "markdown",
   "id": "188547a3",
   "metadata": {},
   "source": [
    "## Import Data"
   ]
  },
  {
   "cell_type": "code",
   "execution_count": 62,
   "id": "daaa3e87",
   "metadata": {},
   "outputs": [],
   "source": [
    "import pandas as pd\n",
    "import numpy as np\n",
    "import matplotlib.pyplot as plt\n",
    "import seaborn as sns"
   ]
  },
  {
   "cell_type": "code",
   "execution_count": 33,
   "id": "12fe00d1",
   "metadata": {},
   "outputs": [
    {
     "data": {
      "text/html": [
       "<div>\n",
       "<style scoped>\n",
       "    .dataframe tbody tr th:only-of-type {\n",
       "        vertical-align: middle;\n",
       "    }\n",
       "\n",
       "    .dataframe tbody tr th {\n",
       "        vertical-align: top;\n",
       "    }\n",
       "\n",
       "    .dataframe thead th {\n",
       "        text-align: right;\n",
       "    }\n",
       "</style>\n",
       "<table border=\"1\" class=\"dataframe\">\n",
       "  <thead>\n",
       "    <tr style=\"text-align: right;\">\n",
       "      <th></th>\n",
       "      <th>RegionID</th>\n",
       "      <th>Population</th>\n",
       "      <th>MoveProb</th>\n",
       "    </tr>\n",
       "  </thead>\n",
       "  <tbody>\n",
       "    <tr>\n",
       "      <th>0</th>\n",
       "      <td>1</td>\n",
       "      <td>2205</td>\n",
       "      <td>0.0050</td>\n",
       "    </tr>\n",
       "    <tr>\n",
       "      <th>1</th>\n",
       "      <td>2</td>\n",
       "      <td>3581</td>\n",
       "      <td>0.0120</td>\n",
       "    </tr>\n",
       "    <tr>\n",
       "      <th>2</th>\n",
       "      <td>3</td>\n",
       "      <td>6019</td>\n",
       "      <td>0.0030</td>\n",
       "    </tr>\n",
       "    <tr>\n",
       "      <th>3</th>\n",
       "      <td>4</td>\n",
       "      <td>1847</td>\n",
       "      <td>0.0200</td>\n",
       "    </tr>\n",
       "    <tr>\n",
       "      <th>4</th>\n",
       "      <td>5</td>\n",
       "      <td>4422</td>\n",
       "      <td>0.0045</td>\n",
       "    </tr>\n",
       "    <tr>\n",
       "      <th>5</th>\n",
       "      <td>6</td>\n",
       "      <td>5230</td>\n",
       "      <td>0.0150</td>\n",
       "    </tr>\n",
       "    <tr>\n",
       "      <th>6</th>\n",
       "      <td>7</td>\n",
       "      <td>6394</td>\n",
       "      <td>0.0220</td>\n",
       "    </tr>\n",
       "    <tr>\n",
       "      <th>7</th>\n",
       "      <td>8</td>\n",
       "      <td>2560</td>\n",
       "      <td>0.0100</td>\n",
       "    </tr>\n",
       "    <tr>\n",
       "      <th>8</th>\n",
       "      <td>9</td>\n",
       "      <td>8510</td>\n",
       "      <td>0.0030</td>\n",
       "    </tr>\n",
       "    <tr>\n",
       "      <th>9</th>\n",
       "      <td>10</td>\n",
       "      <td>3851</td>\n",
       "      <td>0.0070</td>\n",
       "    </tr>\n",
       "  </tbody>\n",
       "</table>\n",
       "</div>"
      ],
      "text/plain": [
       "   RegionID  Population  MoveProb\n",
       "0         1        2205    0.0050\n",
       "1         2        3581    0.0120\n",
       "2         3        6019    0.0030\n",
       "3         4        1847    0.0200\n",
       "4         5        4422    0.0045\n",
       "5         6        5230    0.0150\n",
       "6         7        6394    0.0220\n",
       "7         8        2560    0.0100\n",
       "8         9        8510    0.0030\n",
       "9        10        3851    0.0070"
      ]
     },
     "execution_count": 33,
     "metadata": {},
     "output_type": "execute_result"
    }
   ],
   "source": [
    "population_data = pd.read_csv(\"C:\\\\Users\\\\EWURA\\\\Desktop\\\\Internship Data Challenge\\\\population_data.csv\")\n",
    "population_data"
   ]
  },
  {
   "cell_type": "markdown",
   "id": "5767096a",
   "metadata": {},
   "source": [
    "## Exploratory Data Analysis"
   ]
  },
  {
   "cell_type": "code",
   "execution_count": 34,
   "id": "a42cbbe8",
   "metadata": {},
   "outputs": [
    {
     "name": "stdout",
     "output_type": "stream",
     "text": [
      "<class 'pandas.core.frame.DataFrame'>\n",
      "RangeIndex: 10 entries, 0 to 9\n",
      "Data columns (total 3 columns):\n",
      " #   Column      Non-Null Count  Dtype  \n",
      "---  ------      --------------  -----  \n",
      " 0   RegionID    10 non-null     int64  \n",
      " 1   Population  10 non-null     int64  \n",
      " 2   MoveProb    10 non-null     float64\n",
      "dtypes: float64(1), int64(2)\n",
      "memory usage: 368.0 bytes\n"
     ]
    }
   ],
   "source": [
    "# Check basic information about the dataset\n",
    "population_data.info()"
   ]
  },
  {
   "cell_type": "code",
   "execution_count": 35,
   "id": "87b721bb",
   "metadata": {},
   "outputs": [
    {
     "name": "stdout",
     "output_type": "stream",
     "text": [
      "RegionID      0\n",
      "Population    0\n",
      "MoveProb      0\n",
      "dtype: int64\n"
     ]
    }
   ],
   "source": [
    "# Count missing values in each column\n",
    "print(population_data.isnull().sum())"
   ]
  },
  {
   "cell_type": "code",
   "execution_count": 36,
   "id": "d82280a1",
   "metadata": {},
   "outputs": [
    {
     "data": {
      "text/html": [
       "<div>\n",
       "<style scoped>\n",
       "    .dataframe tbody tr th:only-of-type {\n",
       "        vertical-align: middle;\n",
       "    }\n",
       "\n",
       "    .dataframe tbody tr th {\n",
       "        vertical-align: top;\n",
       "    }\n",
       "\n",
       "    .dataframe thead th {\n",
       "        text-align: right;\n",
       "    }\n",
       "</style>\n",
       "<table border=\"1\" class=\"dataframe\">\n",
       "  <thead>\n",
       "    <tr style=\"text-align: right;\">\n",
       "      <th></th>\n",
       "      <th>RegionID</th>\n",
       "      <th>Population</th>\n",
       "      <th>MoveProb</th>\n",
       "    </tr>\n",
       "  </thead>\n",
       "  <tbody>\n",
       "    <tr>\n",
       "      <th>count</th>\n",
       "      <td>10.00000</td>\n",
       "      <td>10.000000</td>\n",
       "      <td>10.000000</td>\n",
       "    </tr>\n",
       "    <tr>\n",
       "      <th>mean</th>\n",
       "      <td>5.50000</td>\n",
       "      <td>4461.900000</td>\n",
       "      <td>0.010150</td>\n",
       "    </tr>\n",
       "    <tr>\n",
       "      <th>std</th>\n",
       "      <td>3.02765</td>\n",
       "      <td>2103.805042</td>\n",
       "      <td>0.006952</td>\n",
       "    </tr>\n",
       "    <tr>\n",
       "      <th>min</th>\n",
       "      <td>1.00000</td>\n",
       "      <td>1847.000000</td>\n",
       "      <td>0.003000</td>\n",
       "    </tr>\n",
       "    <tr>\n",
       "      <th>25%</th>\n",
       "      <td>3.25000</td>\n",
       "      <td>2815.250000</td>\n",
       "      <td>0.004625</td>\n",
       "    </tr>\n",
       "    <tr>\n",
       "      <th>50%</th>\n",
       "      <td>5.50000</td>\n",
       "      <td>4136.500000</td>\n",
       "      <td>0.008500</td>\n",
       "    </tr>\n",
       "    <tr>\n",
       "      <th>75%</th>\n",
       "      <td>7.75000</td>\n",
       "      <td>5821.750000</td>\n",
       "      <td>0.014250</td>\n",
       "    </tr>\n",
       "    <tr>\n",
       "      <th>max</th>\n",
       "      <td>10.00000</td>\n",
       "      <td>8510.000000</td>\n",
       "      <td>0.022000</td>\n",
       "    </tr>\n",
       "  </tbody>\n",
       "</table>\n",
       "</div>"
      ],
      "text/plain": [
       "       RegionID   Population   MoveProb\n",
       "count  10.00000    10.000000  10.000000\n",
       "mean    5.50000  4461.900000   0.010150\n",
       "std     3.02765  2103.805042   0.006952\n",
       "min     1.00000  1847.000000   0.003000\n",
       "25%     3.25000  2815.250000   0.004625\n",
       "50%     5.50000  4136.500000   0.008500\n",
       "75%     7.75000  5821.750000   0.014250\n",
       "max    10.00000  8510.000000   0.022000"
      ]
     },
     "execution_count": 36,
     "metadata": {},
     "output_type": "execute_result"
    }
   ],
   "source": [
    "population_data.describe()"
   ]
  },
  {
   "cell_type": "markdown",
   "id": "22023338",
   "metadata": {},
   "source": [
    "### **Summary of Descriptive Statistics**\n",
    "\n",
    "- The dataset includes **10 regions** with varying populations and movement probabilities.\n",
    "- **Population** ranges from **1,847** to **8,510**, with a mean of **4,461.9**. Regions show moderate variation in population, with some regions being significantly larger than others.\n",
    "- **MoveProb** values range from **0.003** to **0.022**, with a mean of **0.0102**. Movement probabilities are low across regions, indicating that only a small portion of residents is expected to move each year.\n",
    "- The data shows no missing values or anomalies, ensuring readiness for simulation.\n",
    "\n"
   ]
  },
  {
   "cell_type": "code",
   "execution_count": 37,
   "id": "578499f9",
   "metadata": {},
   "outputs": [
    {
     "data": {
      "image/png": "[encoded data removed]",
      "text/plain": [
       "<Figure size 720x360 with 1 Axes>"
      ]
     },
     "metadata": {
      "needs_background": "light"
     },
     "output_type": "display_data"
    }
   ],
   "source": [
    "# Histogram for Population\n",
    "plt.figure(figsize=(10, 5))\n",
    "sns.histplot(population_data['Population'], bins=10, kde=True, color='skyblue', edgecolor='black')\n",
    "plt.title('Population Distribution Across Regions')\n",
    "plt.xlabel('Population')\n",
    "plt.ylabel('Frequency')\n",
    "plt.show()"
   ]
  },
  {
   "cell_type": "markdown",
   "id": "d6129067",
   "metadata": {},
   "source": [
    "### **Comment on the Population Distribution**\n",
    "\n",
    "- The distribution of population across regions appears to be **slightly uneven** with multiple peaks, suggesting that certain regions have significantly higher populations than others.\n",
    "- There are **no extreme outliers**, but the distribution is not fully normal or symmetric.\n",
    "- Most regions have populations concentrated in moderate to high ranges, with only a few regions having lower populations.\n",
    "- This variation is important for the simulation since regions with larger populations may have a greater impact on overall movement trends."
   ]
  },
  {
   "cell_type": "code",
   "execution_count": 38,
   "id": "44cdc120",
   "metadata": {},
   "outputs": [
    {
     "data": {
      "image/png": "[encoded data removed]",
      "text/plain": [
       "<Figure size 720x360 with 1 Axes>"
      ]
     },
     "metadata": {
      "needs_background": "light"
     },
     "output_type": "display_data"
    }
   ],
   "source": [
    "# Histogram for Move Probability\n",
    "plt.figure(figsize=(10, 5))\n",
    "sns.histplot(population_data['MoveProb'], bins=10, kde=True, color='green', edgecolor='black')\n",
    "plt.title('Move Probability Distribution Across Regions')\n",
    "plt.xlabel('Move Probability')\n",
    "plt.ylabel('Frequency')\n",
    "plt.show()"
   ]
  },
  {
   "cell_type": "markdown",
   "id": "e6e409c7",
   "metadata": {},
   "source": [
    "### **Comment on the Move Probability Distribution**\n",
    "\n",
    "- The distribution of move probability (`MoveProb`) is **right-skewed**, with most regions having low probabilities of movement.\n",
    "- A significant number of regions have `MoveProb` values near the lower end of the range (close to **0.003**), suggesting that movement is generally unlikely across most regions.\n",
    "- There are no regions with `MoveProb` values higher than **0.022**, confirming that all probabilities fall within a reasonable range.\n",
    "- This distribution indicates that large-scale population movement may not occur rapidly within one year, with smaller, localized changes likely dominating the simulation."
   ]
  },
  {
   "cell_type": "code",
   "execution_count": 39,
   "id": "5de761ee",
   "metadata": {},
   "outputs": [
    {
     "name": "stdout",
     "output_type": "stream",
     "text": [
      "Correlation between Population and MoveProb: -0.20\n"
     ]
    }
   ],
   "source": [
    "# Correlation between Population and MoveProb\n",
    "correlation = population_data['Population'].corr(population_data['MoveProb'])\n",
    "print(f\"Correlation between Population and MoveProb: {correlation:.2f}\")"
   ]
  },
  {
   "cell_type": "markdown",
   "id": "d7775f9a",
   "metadata": {},
   "source": [
    "The correlation between Population and MoveProb is -0.20, indicating a weak negative relationship.\n",
    "This suggests that regions with higher populations tend to have slightly lower movement probabilities, while regions with lower populations may have slightly higher movement tendencies."
   ]
  },
  {
   "cell_type": "code",
   "execution_count": 40,
   "id": "b3818d02",
   "metadata": {},
   "outputs": [
    {
     "data": {
      "image/png": "[encoded data removed]",
      "text/plain": [
       "<Figure size 720x360 with 1 Axes>"
      ]
     },
     "metadata": {
      "needs_background": "light"
     },
     "output_type": "display_data"
    }
   ],
   "source": [
    "plt.figure(figsize=(10, 5))\n",
    "sns.boxplot(x=population_data['Population'], color='lightblue')\n",
    "plt.title('Population Outliers')\n",
    "plt.show()"
   ]
  },
  {
   "cell_type": "markdown",
   "id": "b8b13e23",
   "metadata": {},
   "source": [
    "The boxplot for Population shows no outliers, as all data points fall within the whiskers (which represent the range between the minimum and maximum values)."
   ]
  },
  {
   "cell_type": "code",
   "execution_count": 41,
   "id": "35dc270b",
   "metadata": {},
   "outputs": [
    {
     "data": {
      "image/png": "[encoded data removed]",
      "text/plain": [
       "<Figure size 576x360 with 1 Axes>"
      ]
     },
     "metadata": {
      "needs_background": "light"
     },
     "output_type": "display_data"
    }
   ],
   "source": [
    "plt.figure(figsize=(8, 5))\n",
    "sns.boxplot(x=population_data['MoveProb'], color='lightgreen')\n",
    "plt.title('Move Probability Outliers')\n",
    "plt.show()"
   ]
  },
  {
   "cell_type": "markdown",
   "id": "e733a534",
   "metadata": {},
   "source": [
    "The boxplot for move probability shows no outliers, as all data points fall within the whiskers (which represent the range between the minimum and maximum values)."
   ]
  },
  {
   "cell_type": "code",
   "execution_count": 42,
   "id": "44d17be3",
   "metadata": {},
   "outputs": [
    {
     "name": "stdout",
     "output_type": "stream",
     "text": [
      "Initial Total Population: 44619\n"
     ]
    }
   ],
   "source": [
    "# Total population at the start\n",
    "initial_population = population_data['Population'].sum()\n",
    "print(f\"Initial Total Population: {initial_population}\")"
   ]
  },
  {
   "cell_type": "code",
   "execution_count": 43,
   "id": "33748bb2",
   "metadata": {},
   "outputs": [
    {
     "data": {
      "image/png": "[encoded data removed]",
      "text/plain": [
       "<Figure size 540x540 with 12 Axes>"
      ]
     },
     "metadata": {
      "needs_background": "light"
     },
     "output_type": "display_data"
    }
   ],
   "source": [
    "# Pair plot to see relationships between Population and MoveProb\n",
    "sns.pairplot(population_data)\n",
    "plt.suptitle('Pair Plot of Dataset Variables', y=1.02)\n",
    "plt.show()"
   ]
  },
  {
   "cell_type": "markdown",
   "id": "44f01993",
   "metadata": {},
   "source": [
    "The pair plot shows relationships between RegionID, Population, and MoveProb.\n",
    "There is no strong linear relationship between Population and MoveProb, which aligns with the weak correlation of -0.20 observed earlier.\n",
    "Population exhibits moderate variability across regions, while MoveProb is concentrated in lower values, consistent with previous visualizations.\n",
    "The scatter points indicate minimal clustering or trend patterns, suggesting that population and movement probability are relatively independent."
   ]
  },
  {
   "cell_type": "markdown",
   "id": "73ed3afc",
   "metadata": {},
   "source": [
    "## Movement Logic"
   ]
  },
  {
   "cell_type": "code",
   "execution_count": 44,
   "id": "0a37dd65",
   "metadata": {},
   "outputs": [],
   "source": [
    "# Define adjacency structure\n",
    "adjacency = {\n",
    "    1: [2, 4],\n",
    "    2: [1, 3, 5],\n",
    "    3: [2, 6],\n",
    "    4: [1, 5, 7],\n",
    "    5: [2, 4, 6, 8],\n",
    "    6: [3, 5, 9],\n",
    "    7: [4, 8],\n",
    "    8: [5, 7, 9, 10],\n",
    "    9: [6, 8, 10],\n",
    "    10: [8, 9]\n",
    "}"
   ]
  },
  {
   "cell_type": "markdown",
   "id": "1264fe08",
   "metadata": {},
   "source": [
    "## Movement Logic and Assumptions:\n",
    "1. Residents move to **adjacent regions** based on the defined adjacency structure.\n",
    "2. The number of residents moving out of a region is calculated as `Outgoing = Population * MoveProb`.\n",
    "3. Outgoing residents are distributed **equally** among all adjacent regions.\n",
    "4. No new residents enter or leave the entire system, ensuring population conservation."
   ]
  },
  {
   "cell_type": "code",
   "execution_count": 45,
   "id": "521bc37e",
   "metadata": {},
   "outputs": [
    {
     "name": "stdout",
     "output_type": "stream",
     "text": [
      "Region 1 is adjacent to: [2, 4]\n",
      "Region 2 is adjacent to: [1, 3, 5]\n",
      "Region 3 is adjacent to: [2, 6]\n",
      "Region 4 is adjacent to: [1, 5, 7]\n",
      "Region 5 is adjacent to: [2, 4, 6, 8]\n",
      "Region 6 is adjacent to: [3, 5, 9]\n",
      "Region 7 is adjacent to: [4, 8]\n",
      "Region 8 is adjacent to: [5, 7, 9, 10]\n",
      "Region 9 is adjacent to: [6, 8, 10]\n",
      "Region 10 is adjacent to: [8, 9]\n"
     ]
    }
   ],
   "source": [
    "# Display adjacency structure\n",
    "for region, neighbors in adjacency.items():\n",
    "    print(f\"Region {region} is adjacent to: {neighbors}\")"
   ]
  },
  {
   "cell_type": "markdown",
   "id": "37919769",
   "metadata": {},
   "source": [
    "## Calculate Outgoing Residents\n",
    "We calculate the outgoing residents using the formula:\n",
    "**Outgoing = Population * MoveProb**"
   ]
  },
  {
   "cell_type": "code",
   "execution_count": 48,
   "id": "9635096b",
   "metadata": {},
   "outputs": [
    {
     "name": "stdout",
     "output_type": "stream",
     "text": [
      "   RegionID  Population  MoveProb  Outgoing\n",
      "0         1        2205    0.0050    11.025\n",
      "1         2        3581    0.0120    42.972\n",
      "2         3        6019    0.0030    18.057\n",
      "3         4        1847    0.0200    36.940\n",
      "4         5        4422    0.0045    19.899\n",
      "5         6        5230    0.0150    78.450\n",
      "6         7        6394    0.0220   140.668\n",
      "7         8        2560    0.0100    25.600\n",
      "8         9        8510    0.0030    25.530\n",
      "9        10        3851    0.0070    26.957\n"
     ]
    }
   ],
   "source": [
    "# Calculate outgoing residents for each region\n",
    "population_data['Outgoing'] = population_data['Population'] * population_data['MoveProb']\n",
    "\n",
    "# Display the updated data\n",
    "print(population_data[['RegionID', 'Population', 'MoveProb', 'Outgoing']])"
   ]
  },
  {
   "cell_type": "markdown",
   "id": "30b66c8a",
   "metadata": {},
   "source": [
    "Outgoing residents need to be distributed among adjacent regions.\n",
    "We assume equal distribution for simplicity, where outgoing residents are divided evenly across all adjacent regions."
   ]
  },
  {
   "cell_type": "code",
   "execution_count": 52,
   "id": "3ee08f28",
   "metadata": {},
   "outputs": [],
   "source": [
    "def distribute_population(population_data, adjacency):\n",
    "    # Initialize incoming residents count for each region\n",
    "    incoming = {region: 0 for region in population_data['RegionID']}\n",
    "\n",
    "    # Loop through each region to calculate outgoing and distribute to neighbors\n",
    "    for _, row in population_data.iterrows():\n",
    "        region_id = row['RegionID']\n",
    "        outgoing = row['Outgoing']\n",
    "        adj_regions = adjacency[region_id]  # Get adjacent regions\n",
    "\n",
    "        # Distribute evenly to adjacent regions\n",
    "        if adj_regions:\n",
    "            share = outgoing / len(adj_regions)  # Divide equally\n",
    "            for adj_region in adj_regions:\n",
    "                incoming[adj_region] += share\n",
    "\n",
    "    return incoming"
   ]
  },
  {
   "cell_type": "code",
   "execution_count": 53,
   "id": "4474f036",
   "metadata": {},
   "outputs": [
    {
     "name": "stdout",
     "output_type": "stream",
     "text": [
      "   RegionID  Population  Outgoing   Incoming\n",
      "0         1        2205    11.025  26.637333\n",
      "1         2        3581    42.972  19.515750\n",
      "2         3        6019    18.057  40.474000\n",
      "3         4        1847    36.940  80.821250\n",
      "4         5        4422    19.899  59.187333\n",
      "5         6        5230    78.450  22.513250\n",
      "6         7        6394   140.668  18.713333\n",
      "7         8        2560    25.600  97.297250\n",
      "8         9        8510    25.530  46.028500\n",
      "9        10        3851    26.957  14.910000\n"
     ]
    }
   ],
   "source": [
    "# Distribute outgoing residents and get incoming population for each region\n",
    "incoming_movement = distribute_population(population_data, adjacency)\n",
    "\n",
    "# Add the incoming population data to the DataFrame\n",
    "population_data['Incoming'] = population_data['RegionID'].map(incoming_movement)\n",
    "\n",
    "# Display updated data\n",
    "print(population_data[['RegionID', 'Population', 'Outgoing', 'Incoming']])"
   ]
  },
  {
   "cell_type": "code",
   "execution_count": 54,
   "id": "c14150e5",
   "metadata": {},
   "outputs": [
    {
     "name": "stdout",
     "output_type": "stream",
     "text": [
      "   RegionID  Population  Outgoing   Incoming  NewPopulation\n",
      "0         1        2205    11.025  26.637333    2220.612333\n",
      "1         2        3581    42.972  19.515750    3557.543750\n",
      "2         3        6019    18.057  40.474000    6041.417000\n",
      "3         4        1847    36.940  80.821250    1890.881250\n",
      "4         5        4422    19.899  59.187333    4461.288333\n",
      "5         6        5230    78.450  22.513250    5174.063250\n",
      "6         7        6394   140.668  18.713333    6272.045333\n",
      "7         8        2560    25.600  97.297250    2631.697250\n",
      "8         9        8510    25.530  46.028500    8530.498500\n",
      "9        10        3851    26.957  14.910000    3838.953000\n"
     ]
    }
   ],
   "source": [
    "# Calculate the new population after movement\n",
    "population_data['NewPopulation'] = population_data['Population'] - population_data['Outgoing'] + population_data['Incoming']\n",
    "\n",
    "# Display the final data\n",
    "print(population_data[['RegionID', 'Population', 'Outgoing', 'Incoming', 'NewPopulation']])\n"
   ]
  },
  {
   "cell_type": "code",
   "execution_count": 55,
   "id": "dd47da71",
   "metadata": {},
   "outputs": [
    {
     "name": "stdout",
     "output_type": "stream",
     "text": [
      "Initial Population: 44619\n",
      "Final Population: 44619.0\n"
     ]
    }
   ],
   "source": [
    "# Check if total population is conserved\n",
    "initial_population = population_data['Population'].sum()\n",
    "final_population = population_data['NewPopulation'].sum()\n",
    "\n",
    "print(f\"Initial Population: {initial_population}\")\n",
    "print(f\"Final Population: {final_population}\")\n",
    "assert initial_population == final_population, \"Population is not conserved!\""
   ]
  },
  {
   "cell_type": "markdown",
   "id": "654c27fd",
   "metadata": {},
   "source": [
    "## Outgoing and Incoming Population Calculation:\n",
    "1. Outgoing residents were calculated using the formula `Outgoing = Population * MoveProb`.\n",
    "2. Outgoing residents were distributed equally among adjacent regions.\n",
    "3. The new population for each region was updated as `NewPopulation = Population - Outgoing + Incoming`.\n",
    "4. Total population was verified to remain constant before and after the simulation."
   ]
  },
  {
   "cell_type": "code",
   "execution_count": 63,
   "id": "f128faf9",
   "metadata": {},
   "outputs": [
    {
     "data": {
      "image/png": "[encoded data removed]",
      "text/plain": [
       "<Figure size 720x432 with 1 Axes>"
      ]
     },
     "metadata": {
      "needs_background": "light"
     },
     "output_type": "display_data"
    }
   ],
   "source": [
    "# Define bar positions\n",
    "x = np.arange(len(population_data['RegionID']))  # Position for each RegionID\n",
    "width = 0.35  # Width of each bar\n",
    "\n",
    "# Plot side-by-side bars\n",
    "plt.figure(figsize=(10, 6))\n",
    "plt.bar(x - width/2, population_data['Population'], width, label='Initial Population', color='teal', alpha=0.7)\n",
    "plt.bar(x + width/2, population_data['NewPopulation'], width, label='New Population', color='goldenrod', alpha=0.7)\n",
    "\n",
    "# Add labels and titles\n",
    "plt.xlabel('Region ID')\n",
    "plt.ylabel('Population')\n",
    "plt.title('Population Before and After Movement')\n",
    "plt.xticks(x, population_data['RegionID'])\n",
    "plt.legend()\n",
    "\n",
    "# Display the plot\n",
    "plt.show()\n"
   ]
  },
  {
   "cell_type": "markdown",
   "id": "fdbc704a",
   "metadata": {},
   "source": [
    "### Population Before and After Movement by Region\n",
    "This plot provides a comparison between the initial and new population values for each region.\n",
    "Key observations:\n",
    "1. Some regions (e.g., Region 4 and Region 8) experienced population increases after the movement, driven by high incoming residents.\n",
    "2. Regions with high outgoing residents (e.g., Region 7 and Region 6) show a decrease in population.\n",
    "3. Overall, the changes reflect the effect of both outgoing and incoming movement based on the adjacency structure.\n",
    "4. Total population remains consistent across regions, verifying population conservation in the simulation."
   ]
  },
  {
   "cell_type": "code",
   "execution_count": 64,
   "id": "022ea441",
   "metadata": {},
   "outputs": [
    {
     "data": {
      "image/png": "[encoded data removed]",
      "text/plain": [
       "<Figure size 864x432 with 1 Axes>"
      ]
     },
     "metadata": {
      "needs_background": "light"
     },
     "output_type": "display_data"
    }
   ],
   "source": [
    "# Calculate net population change if not already done\n",
    "population_data['PopulationChange'] = population_data['NewPopulation'] - population_data['Population']\n",
    "\n",
    "# Define bar positions\n",
    "x = np.arange(len(population_data['RegionID']))  # Positions for each Region ID\n",
    "width = 0.25  # Width of each bar\n",
    "\n",
    "# Plot side-by-side bars\n",
    "plt.figure(figsize=(12, 6))\n",
    "plt.bar(x - width, population_data['Outgoing'], width, label='Outgoing Residents', color='salmon', alpha=0.7)\n",
    "plt.bar(x, population_data['Incoming'], width, label='Incoming Residents', color='skyblue', alpha=0.7)\n",
    "plt.bar(x + width, population_data['PopulationChange'], width, label='Net Population Change', color='orange', alpha=0.7)\n",
    "\n",
    "# Add labels and titles\n",
    "plt.xlabel('Region ID')\n",
    "plt.ylabel('Number of Residents')\n",
    "plt.title('Outgoing, Incoming, and Net Population Change by Region')\n",
    "plt.xticks(x, population_data['RegionID'])\n",
    "plt.axhline(y=0, color='gray', linestyle='--')  # Add reference line at zero\n",
    "plt.legend()\n",
    "\n",
    "# Display the plot\n",
    "plt.show()"
   ]
  },
  {
   "cell_type": "markdown",
   "id": "3c872491",
   "metadata": {},
   "source": [
    "### Population Movement Analysis\n",
    "\n",
    "This plot provides a side-by-side comparison of outgoing residents, incoming residents, \n",
    "and net population change for each region.\n",
    "\n",
    "Key Observations:\n",
    "1. Regions with high outgoing residents (e.g., Region 7) experienced large population losses, \n",
    "   as indicated by the negative net change (orange bars).\n",
    "2. Regions such as Region 4 and Region 8 received a high number of incoming residents, \n",
    "   resulting in positive net population change.\n",
    "3. The reference line at zero helps distinguish between regions that gained or lost population \n",
    "   during the simulation.\n",
    "4. The balance between outgoing and incoming residents shows how the adjacency structure \n",
    "   and movement probability influenced regional population changes."
   ]
  },
  {
   "cell_type": "code",
   "execution_count": null,
   "id": "f5090277",
   "metadata": {},
   "outputs": [],
   "source": []
  }
 ],
 "metadata": {
  "kernelspec": {
   "display_name": "Python 3 (ipykernel)",
   "language": "python",
   "name": "python3"
  },
  "language_info": {
   "codemirror_mode": {
    "name": "ipython",
    "version": 3
   },
   "file_extension": ".py",
   "mimetype": "text/x-python",
   "name": "python",
   "nbconvert_exporter": "python",
   "pygments_lexer": "ipython3",
   "version": "3.9.12"
  }
 },
 "nbformat": 4,
 "nbformat_minor": 5
}
