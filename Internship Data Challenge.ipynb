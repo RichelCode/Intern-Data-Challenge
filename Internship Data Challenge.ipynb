{
 "cells": [
  {
   "cell_type": "markdown",
   "id": "d4a59f3e",
   "metadata": {},
   "source": [
    "# Intern Data Challenge 2025 – Population Movement Simulation\n",
    "### Prepared by: [Richel Ohenewaa Attafuah]\n",
    "\n",
    "## Objective:\n",
    "The purpose of this notebook is to estimate the future population distribution across ten geographic regions based on internal movement probabilities (`MoveProb`). This involves simulating one year of population changes under the following assumptions:\n",
    "- Movement occurs only between adjacent regions (no external migration).\n",
    "- Movement is influenced by each region's `MoveProb`, indicating the probability of residents moving out of a region.\n",
    "- The redistribution of outgoing residents is based on a defined logic.\n",
    "\n",
    "This analysis aligns with OKI's objective to enhance regional planning by identifying areas with significant population movement. Understanding these trends helps allocate resources effectively for transportation, infrastructure, and economic development.\n",
    "\n",
    "## Approach:\n",
    "The notebook is organized into the following steps:\n",
    "1. **Data Exploration:**  \n",
    "   Perform exploratory data analysis (EDA) to understand the structure, detect anomalies, and summarize key statistics.\n",
    "   \n",
    "2. **Define Movement Logic:**  \n",
    "   Set up region adjacency relationships and establish movement rules for distributing outgoing residents to adjacent regions.\n",
    "\n",
    "3. **Simulation:**  \n",
    "   Implement functions to:\n",
    "   - Calculate outgoing residents.\n",
    "   - Distribute residents to neighboring regions.\n",
    "   - Compute the new population for each region after one year.\n",
    "\n",
    "4. **Results and Visualization:**  \n",
    "   Present the updated population distribution and analyze key insights.\n",
    "\n",
    "5. **Conclusion:**  \n",
    "   Summarize findings, including assumptions, limitations, and potential improvements to the model.\n"
   ]
  },
  {
   "cell_type": "markdown",
   "id": "9af40bb7",
   "metadata": {},
   "source": [
    "## Import Data"
   ]
  },
  {
   "cell_type": "code",
   "execution_count": 91,
   "id": "8469459b",
   "metadata": {},
   "outputs": [],
   "source": [
    "import pandas as pd\n",
    "import numpy as np\n",
    "import matplotlib.pyplot as plt\n",
    "import seaborn as sns\n",
    "from scipy.stats import ttest_rel"
   ]
  },
  {
   "cell_type": "code",
   "execution_count": 92,
   "id": "12fe00d1",
   "metadata": {},
   "outputs": [
    {
     "data": {
      "text/html": [
       "<div>\n",
       "<style scoped>\n",
       "    .dataframe tbody tr th:only-of-type {\n",
       "        vertical-align: middle;\n",
       "    }\n",
       "\n",
       "    .dataframe tbody tr th {\n",
       "        vertical-align: top;\n",
       "    }\n",
       "\n",
       "    .dataframe thead th {\n",
       "        text-align: right;\n",
       "    }\n",
       "</style>\n",
       "<table border=\"1\" class=\"dataframe\">\n",
       "  <thead>\n",
       "    <tr style=\"text-align: right;\">\n",
       "      <th></th>\n",
       "      <th>RegionID</th>\n",
       "      <th>Population</th>\n",
       "      <th>MoveProb</th>\n",
       "    </tr>\n",
       "  </thead>\n",
       "  <tbody>\n",
       "    <tr>\n",
       "      <th>0</th>\n",
       "      <td>1</td>\n",
       "      <td>2205</td>\n",
       "      <td>0.0050</td>\n",
       "    </tr>\n",
       "    <tr>\n",
       "      <th>1</th>\n",
       "      <td>2</td>\n",
       "      <td>3581</td>\n",
       "      <td>0.0120</td>\n",
       "    </tr>\n",
       "    <tr>\n",
       "      <th>2</th>\n",
       "      <td>3</td>\n",
       "      <td>6019</td>\n",
       "      <td>0.0030</td>\n",
       "    </tr>\n",
       "    <tr>\n",
       "      <th>3</th>\n",
       "      <td>4</td>\n",
       "      <td>1847</td>\n",
       "      <td>0.0200</td>\n",
       "    </tr>\n",
       "    <tr>\n",
       "      <th>4</th>\n",
       "      <td>5</td>\n",
       "      <td>4422</td>\n",
       "      <td>0.0045</td>\n",
       "    </tr>\n",
       "    <tr>\n",
       "      <th>5</th>\n",
       "      <td>6</td>\n",
       "      <td>5230</td>\n",
       "      <td>0.0150</td>\n",
       "    </tr>\n",
       "    <tr>\n",
       "      <th>6</th>\n",
       "      <td>7</td>\n",
       "      <td>6394</td>\n",
       "      <td>0.0220</td>\n",
       "    </tr>\n",
       "    <tr>\n",
       "      <th>7</th>\n",
       "      <td>8</td>\n",
       "      <td>2560</td>\n",
       "      <td>0.0100</td>\n",
       "    </tr>\n",
       "    <tr>\n",
       "      <th>8</th>\n",
       "      <td>9</td>\n",
       "      <td>8510</td>\n",
       "      <td>0.0030</td>\n",
       "    </tr>\n",
       "    <tr>\n",
       "      <th>9</th>\n",
       "      <td>10</td>\n",
       "      <td>3851</td>\n",
       "      <td>0.0070</td>\n",
       "    </tr>\n",
       "  </tbody>\n",
       "</table>\n",
       "</div>"
      ],
      "text/plain": [
       "   RegionID  Population  MoveProb\n",
       "0         1        2205    0.0050\n",
       "1         2        3581    0.0120\n",
       "2         3        6019    0.0030\n",
       "3         4        1847    0.0200\n",
       "4         5        4422    0.0045\n",
       "5         6        5230    0.0150\n",
       "6         7        6394    0.0220\n",
       "7         8        2560    0.0100\n",
       "8         9        8510    0.0030\n",
       "9        10        3851    0.0070"
      ]
     },
     "execution_count": 92,
     "metadata": {},
     "output_type": "execute_result"
    }
   ],
   "source": [
    "population_data = pd.read_csv(\"C:\\\\Users\\\\EWURA\\\\Desktop\\\\Internship Data Challenge\\\\population_data.csv\")\n",
    "population_data"
   ]
  },
  {
   "cell_type": "markdown",
   "id": "fbb9b6a9",
   "metadata": {},
   "source": [
    "## Exploratory Data Analysis"
   ]
  },
  {
   "cell_type": "code",
   "execution_count": 93,
   "id": "a42cbbe8",
   "metadata": {},
   "outputs": [
    {
     "name": "stdout",
     "output_type": "stream",
     "text": [
      "<class 'pandas.core.frame.DataFrame'>\n",
      "RangeIndex: 10 entries, 0 to 9\n",
      "Data columns (total 3 columns):\n",
      " #   Column      Non-Null Count  Dtype  \n",
      "---  ------      --------------  -----  \n",
      " 0   RegionID    10 non-null     int64  \n",
      " 1   Population  10 non-null     int64  \n",
      " 2   MoveProb    10 non-null     float64\n",
      "dtypes: float64(1), int64(2)\n",
      "memory usage: 368.0 bytes\n"
     ]
    }
   ],
   "source": [
    "# Check basic information about the dataset\n",
    "population_data.info()"
   ]
  },
  {
   "cell_type": "code",
   "execution_count": 94,
   "id": "0cc6ab87",
   "metadata": {},
   "outputs": [
    {
     "name": "stdout",
     "output_type": "stream",
     "text": [
      "RegionID      0\n",
      "Population    0\n",
      "MoveProb      0\n",
      "dtype: int64\n"
     ]
    }
   ],
   "source": [
    "# Count missing values in each column\n",
    "print(population_data.isnull().sum())"
   ]
  },
  {
   "cell_type": "code",
   "execution_count": 95,
   "id": "4bd92789",
   "metadata": {
    "scrolled": true
   },
   "outputs": [
    {
     "data": {
      "text/html": [
       "<div>\n",
       "<style scoped>\n",
       "    .dataframe tbody tr th:only-of-type {\n",
       "        vertical-align: middle;\n",
       "    }\n",
       "\n",
       "    .dataframe tbody tr th {\n",
       "        vertical-align: top;\n",
       "    }\n",
       "\n",
       "    .dataframe thead th {\n",
       "        text-align: right;\n",
       "    }\n",
       "</style>\n",
       "<table border=\"1\" class=\"dataframe\">\n",
       "  <thead>\n",
       "    <tr style=\"text-align: right;\">\n",
       "      <th></th>\n",
       "      <th>RegionID</th>\n",
       "      <th>Population</th>\n",
       "      <th>MoveProb</th>\n",
       "    </tr>\n",
       "  </thead>\n",
       "  <tbody>\n",
       "    <tr>\n",
       "      <th>count</th>\n",
       "      <td>10.00000</td>\n",
       "      <td>10.000000</td>\n",
       "      <td>10.000000</td>\n",
       "    </tr>\n",
       "    <tr>\n",
       "      <th>mean</th>\n",
       "      <td>5.50000</td>\n",
       "      <td>4461.900000</td>\n",
       "      <td>0.010150</td>\n",
       "    </tr>\n",
       "    <tr>\n",
       "      <th>std</th>\n",
       "      <td>3.02765</td>\n",
       "      <td>2103.805042</td>\n",
       "      <td>0.006952</td>\n",
       "    </tr>\n",
       "    <tr>\n",
       "      <th>min</th>\n",
       "      <td>1.00000</td>\n",
       "      <td>1847.000000</td>\n",
       "      <td>0.003000</td>\n",
       "    </tr>\n",
       "    <tr>\n",
       "      <th>25%</th>\n",
       "      <td>3.25000</td>\n",
       "      <td>2815.250000</td>\n",
       "      <td>0.004625</td>\n",
       "    </tr>\n",
       "    <tr>\n",
       "      <th>50%</th>\n",
       "      <td>5.50000</td>\n",
       "      <td>4136.500000</td>\n",
       "      <td>0.008500</td>\n",
       "    </tr>\n",
       "    <tr>\n",
       "      <th>75%</th>\n",
       "      <td>7.75000</td>\n",
       "      <td>5821.750000</td>\n",
       "      <td>0.014250</td>\n",
       "    </tr>\n",
       "    <tr>\n",
       "      <th>max</th>\n",
       "      <td>10.00000</td>\n",
       "      <td>8510.000000</td>\n",
       "      <td>0.022000</td>\n",
       "    </tr>\n",
       "  </tbody>\n",
       "</table>\n",
       "</div>"
      ],
      "text/plain": [
       "       RegionID   Population   MoveProb\n",
       "count  10.00000    10.000000  10.000000\n",
       "mean    5.50000  4461.900000   0.010150\n",
       "std     3.02765  2103.805042   0.006952\n",
       "min     1.00000  1847.000000   0.003000\n",
       "25%     3.25000  2815.250000   0.004625\n",
       "50%     5.50000  4136.500000   0.008500\n",
       "75%     7.75000  5821.750000   0.014250\n",
       "max    10.00000  8510.000000   0.022000"
      ]
     },
     "execution_count": 95,
     "metadata": {},
     "output_type": "execute_result"
    }
   ],
   "source": [
    "population_data.describe()"
   ]
  },
  {
   "cell_type": "markdown",
   "id": "c30edcac",
   "metadata": {},
   "source": [
    "### **Summary of Descriptive Statistics**\n",
    "\n",
    "- The dataset includes **10 regions** with varying populations and movement probabilities.\n",
    "- **Population** ranges from **1,847** to **8,510**, with a mean of **4,461.9**. Regions show moderate variation in population, with some regions being significantly larger than others.\n",
    "- **MoveProb** values range from **0.003** to **0.022**, with a mean of **0.0102**. Movement probabilities are low across regions, indicating that only a small portion of residents is expected to move each year.\n",
    "- The data shows no missing values or anomalies, ensuring readiness for simulation.\n",
    "\n"
   ]
  },
  {
   "cell_type": "markdown",
   "id": "f81b02bb",
   "metadata": {},
   "source": [
    "### Population Distribution Visualization"
   ]
  },
  {
   "cell_type": "code",
   "execution_count": 96,
   "id": "d7cf3489",
   "metadata": {},
   "outputs": [
    {
     "data": {
      "image/png": "[encoded data removed]",
      "text/plain": [
       "<Figure size 720x360 with 1 Axes>"
      ]
     },
     "metadata": {
      "needs_background": "light"
     },
     "output_type": "display_data"
    }
   ],
   "source": [
    "# Histogram for Population\n",
    "plt.figure(figsize=(10, 5))\n",
    "sns.histplot(population_data['Population'], bins=10, kde=True, color='skyblue', edgecolor='black')\n",
    "plt.title('Population Distribution Across Regions')\n",
    "plt.xlabel('Population')\n",
    "plt.ylabel('Frequency')\n",
    "plt.show()"
   ]
  },
  {
   "cell_type": "markdown",
   "id": "92d11c00",
   "metadata": {},
   "source": [
    "### **Comment on the Population Distribution**\n",
    "\n",
    "- The distribution of population across regions appears to be **slightly uneven** with multiple peaks, suggesting that certain regions have significantly higher populations than others.\n",
    "- There are **no extreme outliers**, but the distribution is not fully normal or symmetric.\n",
    "- Most regions have populations concentrated in moderate to high ranges, with only a few regions having lower populations.\n",
    "- This variation is important for the simulation since regions with larger populations may have a greater impact on overall movement trends."
   ]
  },
  {
   "cell_type": "markdown",
   "id": "389fbc00",
   "metadata": {},
   "source": [
    "### Move Probability Distribution Visualization"
   ]
  },
  {
   "cell_type": "code",
   "execution_count": 97,
   "id": "0415adbd",
   "metadata": {
    "scrolled": true
   },
   "outputs": [
    {
     "data": {
      "image/png": "[encoded data removed]",
      "text/plain": [
       "<Figure size 720x360 with 1 Axes>"
      ]
     },
     "metadata": {
      "needs_background": "light"
     },
     "output_type": "display_data"
    }
   ],
   "source": [
    "# Histogram for Move Probability\n",
    "plt.figure(figsize=(10, 5))\n",
    "sns.histplot(population_data['MoveProb'], bins=10, kde=True, color='green', edgecolor='black')\n",
    "plt.title('Move Probability Distribution Across Regions')\n",
    "plt.xlabel('Move Probability')\n",
    "plt.ylabel('Frequency')\n",
    "plt.show()"
   ]
  },
  {
   "cell_type": "markdown",
   "id": "9ede9f9a",
   "metadata": {},
   "source": [
    "### **Comment on the Move Probability Distribution**\n",
    "\n",
    "- The distribution of move probability (`MoveProb`) is **right-skewed**, with most regions having low probabilities of movement.\n",
    "- A significant number of regions have `MoveProb` values near the lower end of the range (close to **0.003**), suggesting that movement is generally unlikely across most regions.\n",
    "- There are no regions with `MoveProb` values higher than **0.022**, confirming that all probabilities fall within a reasonable range.\n",
    "- This distribution indicates that large-scale population movement may not occur rapidly within one year, with smaller, localized changes likely dominating the simulation."
   ]
  },
  {
   "cell_type": "code",
   "execution_count": 98,
   "id": "a5e30adb",
   "metadata": {},
   "outputs": [
    {
     "name": "stdout",
     "output_type": "stream",
     "text": [
      "Correlation between Population and MoveProb: -0.20\n"
     ]
    }
   ],
   "source": [
    "# Correlation between Population and MoveProb\n",
    "correlation = population_data['Population'].corr(population_data['MoveProb'])\n",
    "print(f\"Correlation between Population and MoveProb: {correlation:.2f}\")"
   ]
  },
  {
   "cell_type": "markdown",
   "id": "20816ff1",
   "metadata": {},
   "source": [
    "The correlation between Population and MoveProb is -0.20, indicating a weak negative relationship.\n",
    "This suggests that regions with higher populations tend to have slightly lower movement probabilities, while regions with lower populations may have slightly higher movement tendencies."
   ]
  },
  {
   "cell_type": "code",
   "execution_count": 99,
   "id": "5a4e735c",
   "metadata": {},
   "outputs": [
    {
     "data": {
      "image/png": "[encoded data removed]",
      "text/plain": [
       "<Figure size 720x360 with 1 Axes>"
      ]
     },
     "metadata": {
      "needs_background": "light"
     },
     "output_type": "display_data"
    }
   ],
   "source": [
    "plt.figure(figsize=(10, 5))\n",
    "sns.boxplot(x=population_data['Population'], color='lightblue')\n",
    "plt.title('Population Outliers')\n",
    "plt.show()"
   ]
  },
  {
   "cell_type": "markdown",
   "id": "6a77d4e2",
   "metadata": {},
   "source": [
    "The boxplot for Population shows no outliers, as all data points fall within the whiskers (which represent the range between the minimum and maximum values)."
   ]
  },
  {
   "cell_type": "code",
   "execution_count": 100,
   "id": "110289df",
   "metadata": {},
   "outputs": [
    {
     "data": {
      "image/png": "[encoded data removed]",
      "text/plain": [
       "<Figure size 576x360 with 1 Axes>"
      ]
     },
     "metadata": {
      "needs_background": "light"
     },
     "output_type": "display_data"
    }
   ],
   "source": [
    "plt.figure(figsize=(8, 5))\n",
    "sns.boxplot(x=population_data['MoveProb'], color='lightgreen')\n",
    "plt.title('Move Probability Outliers')\n",
    "plt.show()"
   ]
  },
  {
   "cell_type": "markdown",
   "id": "57a09999",
   "metadata": {},
   "source": [
    "The boxplot for move probability shows no outliers, as all data points fall within the whiskers (which represent the range between the minimum and maximum values)."
   ]
  },
  {
   "cell_type": "code",
   "execution_count": 101,
   "id": "23cf56a8",
   "metadata": {},
   "outputs": [
    {
     "name": "stdout",
     "output_type": "stream",
     "text": [
      "Initial Total Population: 44619\n"
     ]
    }
   ],
   "source": [
    "# Total population at the start\n",
    "initial_population = population_data['Population'].sum()\n",
    "print(f\"Initial Total Population: {initial_population}\")"
   ]
  },
  {
   "cell_type": "markdown",
   "id": "628edd9a",
   "metadata": {},
   "source": [
    "### Relationships Between Population and Movement Probability"
   ]
  },
  {
   "cell_type": "code",
   "execution_count": 102,
   "id": "c84ebb40",
   "metadata": {},
   "outputs": [
    {
     "data": {
      "image/png": "[encoded data removed]",
      "text/plain": [
       "<Figure size 540x540 with 12 Axes>"
      ]
     },
     "metadata": {
      "needs_background": "light"
     },
     "output_type": "display_data"
    }
   ],
   "source": [
    "# Pair plot to see relationships between Population and MoveProb\n",
    "sns.pairplot(population_data)\n",
    "plt.suptitle('Pair Plot of Dataset Variables', y=1.02)\n",
    "plt.show()"
   ]
  },
  {
   "cell_type": "markdown",
   "id": "ed96e7b4",
   "metadata": {},
   "source": [
    "The pair plot shows relationships between RegionID, Population, and MoveProb.\n",
    "There is no strong linear relationship between Population and MoveProb, which aligns with the weak correlation of -0.20 observed earlier.\n",
    "Population exhibits moderate variability across regions, while MoveProb is concentrated in lower values, consistent with previous visualizations.\n",
    "The scatter points indicate minimal clustering or trend patterns, suggesting that population and movement probability are relatively independent."
   ]
  },
  {
   "cell_type": "markdown",
   "id": "b47a48d6",
   "metadata": {},
   "source": [
    "## Movement Logic\n",
    "\n",
    "### Assumptions Overview:\n",
    "1. The model simulates population movement under static conditions, with no new residents entering or leaving the system.\n",
    "2. No external migration, births, or deaths are accounted for within the one-year simulation period.\n",
    "3. Movement probabilities remain constant across regions and time.\n"
   ]
  },
  {
   "cell_type": "code",
   "execution_count": 103,
   "id": "ba016be1",
   "metadata": {},
   "outputs": [],
   "source": [
    "# Define adjacency structure\n",
    "adjacency = {\n",
    "    1: [2, 4],\n",
    "    2: [1, 3, 5],\n",
    "    3: [2, 6],\n",
    "    4: [1, 5, 7],\n",
    "    5: [2, 4, 6, 8],\n",
    "    6: [3, 5, 9],\n",
    "    7: [4, 8],\n",
    "    8: [5, 7, 9, 10],\n",
    "    9: [6, 8, 10],\n",
    "    10: [8, 9]\n",
    "}"
   ]
  },
  {
   "cell_type": "markdown",
   "id": "cc383acb",
   "metadata": {},
   "source": [
    "## Movement Logic and Assumptions:\n",
    "1. Residents move to **adjacent regions** based on the defined adjacency structure.\n",
    "2. The number of residents moving out of a region is calculated as `Outgoing = Population * MoveProb`.\n",
    "3. Outgoing residents are distributed **equally** among all adjacent regions.\n",
    "4. No new residents enter or leave the entire system, ensuring population conservation."
   ]
  },
  {
   "cell_type": "markdown",
   "id": "746cac31",
   "metadata": {},
   "source": [
    "### Additional Assumptions:\n",
    "This analysis assumes that there is no natural population growth or decline (e.g., births or deaths) within the one-year simulation period. The goal was to evaluate internal movement between regions without external migration or population growth factors.\n"
   ]
  },
  {
   "cell_type": "code",
   "execution_count": 104,
   "id": "7ffb8272",
   "metadata": {},
   "outputs": [
    {
     "name": "stdout",
     "output_type": "stream",
     "text": [
      "Region 1 is adjacent to: [2, 4]\n",
      "Region 2 is adjacent to: [1, 3, 5]\n",
      "Region 3 is adjacent to: [2, 6]\n",
      "Region 4 is adjacent to: [1, 5, 7]\n",
      "Region 5 is adjacent to: [2, 4, 6, 8]\n",
      "Region 6 is adjacent to: [3, 5, 9]\n",
      "Region 7 is adjacent to: [4, 8]\n",
      "Region 8 is adjacent to: [5, 7, 9, 10]\n",
      "Region 9 is adjacent to: [6, 8, 10]\n",
      "Region 10 is adjacent to: [8, 9]\n"
     ]
    }
   ],
   "source": [
    "# Display adjacency structure\n",
    "for region, neighbors in adjacency.items():\n",
    "    print(f\"Region {region} is adjacent to: {neighbors}\")"
   ]
  },
  {
   "cell_type": "markdown",
   "id": "753ac541",
   "metadata": {},
   "source": [
    "## Calculate Outgoing Residents\n",
    "We calculate the outgoing residents using the formula:\n",
    "**Outgoing = Population * MoveProb**"
   ]
  },
  {
   "cell_type": "code",
   "execution_count": 105,
   "id": "c1d0a502",
   "metadata": {},
   "outputs": [
    {
     "data": {
      "text/html": [
       "<div>\n",
       "<style scoped>\n",
       "    .dataframe tbody tr th:only-of-type {\n",
       "        vertical-align: middle;\n",
       "    }\n",
       "\n",
       "    .dataframe tbody tr th {\n",
       "        vertical-align: top;\n",
       "    }\n",
       "\n",
       "    .dataframe thead th {\n",
       "        text-align: right;\n",
       "    }\n",
       "</style>\n",
       "<table border=\"1\" class=\"dataframe\">\n",
       "  <thead>\n",
       "    <tr style=\"text-align: right;\">\n",
       "      <th></th>\n",
       "      <th>RegionID</th>\n",
       "      <th>Population</th>\n",
       "      <th>MoveProb</th>\n",
       "      <th>Outgoing</th>\n",
       "    </tr>\n",
       "  </thead>\n",
       "  <tbody>\n",
       "    <tr>\n",
       "      <th>0</th>\n",
       "      <td>1</td>\n",
       "      <td>2205</td>\n",
       "      <td>0.0050</td>\n",
       "      <td>11.025</td>\n",
       "    </tr>\n",
       "    <tr>\n",
       "      <th>1</th>\n",
       "      <td>2</td>\n",
       "      <td>3581</td>\n",
       "      <td>0.0120</td>\n",
       "      <td>42.972</td>\n",
       "    </tr>\n",
       "    <tr>\n",
       "      <th>2</th>\n",
       "      <td>3</td>\n",
       "      <td>6019</td>\n",
       "      <td>0.0030</td>\n",
       "      <td>18.057</td>\n",
       "    </tr>\n",
       "    <tr>\n",
       "      <th>3</th>\n",
       "      <td>4</td>\n",
       "      <td>1847</td>\n",
       "      <td>0.0200</td>\n",
       "      <td>36.940</td>\n",
       "    </tr>\n",
       "    <tr>\n",
       "      <th>4</th>\n",
       "      <td>5</td>\n",
       "      <td>4422</td>\n",
       "      <td>0.0045</td>\n",
       "      <td>19.899</td>\n",
       "    </tr>\n",
       "    <tr>\n",
       "      <th>5</th>\n",
       "      <td>6</td>\n",
       "      <td>5230</td>\n",
       "      <td>0.0150</td>\n",
       "      <td>78.450</td>\n",
       "    </tr>\n",
       "    <tr>\n",
       "      <th>6</th>\n",
       "      <td>7</td>\n",
       "      <td>6394</td>\n",
       "      <td>0.0220</td>\n",
       "      <td>140.668</td>\n",
       "    </tr>\n",
       "    <tr>\n",
       "      <th>7</th>\n",
       "      <td>8</td>\n",
       "      <td>2560</td>\n",
       "      <td>0.0100</td>\n",
       "      <td>25.600</td>\n",
       "    </tr>\n",
       "    <tr>\n",
       "      <th>8</th>\n",
       "      <td>9</td>\n",
       "      <td>8510</td>\n",
       "      <td>0.0030</td>\n",
       "      <td>25.530</td>\n",
       "    </tr>\n",
       "    <tr>\n",
       "      <th>9</th>\n",
       "      <td>10</td>\n",
       "      <td>3851</td>\n",
       "      <td>0.0070</td>\n",
       "      <td>26.957</td>\n",
       "    </tr>\n",
       "  </tbody>\n",
       "</table>\n",
       "</div>"
      ],
      "text/plain": [
       "   RegionID  Population  MoveProb  Outgoing\n",
       "0         1        2205    0.0050    11.025\n",
       "1         2        3581    0.0120    42.972\n",
       "2         3        6019    0.0030    18.057\n",
       "3         4        1847    0.0200    36.940\n",
       "4         5        4422    0.0045    19.899\n",
       "5         6        5230    0.0150    78.450\n",
       "6         7        6394    0.0220   140.668\n",
       "7         8        2560    0.0100    25.600\n",
       "8         9        8510    0.0030    25.530\n",
       "9        10        3851    0.0070    26.957"
      ]
     },
     "execution_count": 105,
     "metadata": {},
     "output_type": "execute_result"
    }
   ],
   "source": [
    "# Calculate outgoing residents for each region\n",
    "population_data['Outgoing'] = population_data['Population'] * population_data['MoveProb']\n",
    "\n",
    "# Display the updated data\n",
    "population_data[['RegionID', 'Population', 'MoveProb', 'Outgoing']]"
   ]
  },
  {
   "cell_type": "markdown",
   "id": "f18dadef",
   "metadata": {},
   "source": [
    "Outgoing residents need to be distributed among adjacent regions.\n",
    "We assume equal distribution for simplicity, where outgoing residents are divided evenly across all adjacent regions."
   ]
  },
  {
   "cell_type": "markdown",
   "id": "28aa4ea4",
   "metadata": {},
   "source": [
    "## Equal Distribution"
   ]
  },
  {
   "cell_type": "code",
   "execution_count": 106,
   "id": "a1f42a5c",
   "metadata": {},
   "outputs": [],
   "source": [
    "def distribute_population(population_data, adjacency):\n",
    "    # Initialize incoming residents count for each region\n",
    "    incoming = {region: 0 for region in population_data['RegionID']}\n",
    "\n",
    "    # Loop through each region to calculate outgoing and distribute to neighbors\n",
    "    for _, row in population_data.iterrows():\n",
    "        region_id = row['RegionID']\n",
    "        outgoing = row['Outgoing']\n",
    "        adj_regions = adjacency[region_id]  # Get adjacent regions\n",
    "\n",
    "        # Distribute evenly to adjacent regions\n",
    "        if adj_regions:\n",
    "            share = outgoing / len(adj_regions)  # Divide equally\n",
    "            for adj_region in adj_regions:\n",
    "                incoming[adj_region] += share\n",
    "\n",
    "    return incoming"
   ]
  },
  {
   "cell_type": "code",
   "execution_count": 107,
   "id": "af01d9b9",
   "metadata": {},
   "outputs": [
    {
     "data": {
      "text/html": [
       "<div>\n",
       "<style scoped>\n",
       "    .dataframe tbody tr th:only-of-type {\n",
       "        vertical-align: middle;\n",
       "    }\n",
       "\n",
       "    .dataframe tbody tr th {\n",
       "        vertical-align: top;\n",
       "    }\n",
       "\n",
       "    .dataframe thead th {\n",
       "        text-align: right;\n",
       "    }\n",
       "</style>\n",
       "<table border=\"1\" class=\"dataframe\">\n",
       "  <thead>\n",
       "    <tr style=\"text-align: right;\">\n",
       "      <th></th>\n",
       "      <th>RegionID</th>\n",
       "      <th>Population</th>\n",
       "      <th>Outgoing</th>\n",
       "      <th>Incoming</th>\n",
       "    </tr>\n",
       "  </thead>\n",
       "  <tbody>\n",
       "    <tr>\n",
       "      <th>0</th>\n",
       "      <td>1</td>\n",
       "      <td>2205</td>\n",
       "      <td>11.025</td>\n",
       "      <td>26.637333</td>\n",
       "    </tr>\n",
       "    <tr>\n",
       "      <th>1</th>\n",
       "      <td>2</td>\n",
       "      <td>3581</td>\n",
       "      <td>42.972</td>\n",
       "      <td>19.515750</td>\n",
       "    </tr>\n",
       "    <tr>\n",
       "      <th>2</th>\n",
       "      <td>3</td>\n",
       "      <td>6019</td>\n",
       "      <td>18.057</td>\n",
       "      <td>40.474000</td>\n",
       "    </tr>\n",
       "    <tr>\n",
       "      <th>3</th>\n",
       "      <td>4</td>\n",
       "      <td>1847</td>\n",
       "      <td>36.940</td>\n",
       "      <td>80.821250</td>\n",
       "    </tr>\n",
       "    <tr>\n",
       "      <th>4</th>\n",
       "      <td>5</td>\n",
       "      <td>4422</td>\n",
       "      <td>19.899</td>\n",
       "      <td>59.187333</td>\n",
       "    </tr>\n",
       "    <tr>\n",
       "      <th>5</th>\n",
       "      <td>6</td>\n",
       "      <td>5230</td>\n",
       "      <td>78.450</td>\n",
       "      <td>22.513250</td>\n",
       "    </tr>\n",
       "    <tr>\n",
       "      <th>6</th>\n",
       "      <td>7</td>\n",
       "      <td>6394</td>\n",
       "      <td>140.668</td>\n",
       "      <td>18.713333</td>\n",
       "    </tr>\n",
       "    <tr>\n",
       "      <th>7</th>\n",
       "      <td>8</td>\n",
       "      <td>2560</td>\n",
       "      <td>25.600</td>\n",
       "      <td>97.297250</td>\n",
       "    </tr>\n",
       "    <tr>\n",
       "      <th>8</th>\n",
       "      <td>9</td>\n",
       "      <td>8510</td>\n",
       "      <td>25.530</td>\n",
       "      <td>46.028500</td>\n",
       "    </tr>\n",
       "    <tr>\n",
       "      <th>9</th>\n",
       "      <td>10</td>\n",
       "      <td>3851</td>\n",
       "      <td>26.957</td>\n",
       "      <td>14.910000</td>\n",
       "    </tr>\n",
       "  </tbody>\n",
       "</table>\n",
       "</div>"
      ],
      "text/plain": [
       "   RegionID  Population  Outgoing   Incoming\n",
       "0         1        2205    11.025  26.637333\n",
       "1         2        3581    42.972  19.515750\n",
       "2         3        6019    18.057  40.474000\n",
       "3         4        1847    36.940  80.821250\n",
       "4         5        4422    19.899  59.187333\n",
       "5         6        5230    78.450  22.513250\n",
       "6         7        6394   140.668  18.713333\n",
       "7         8        2560    25.600  97.297250\n",
       "8         9        8510    25.530  46.028500\n",
       "9        10        3851    26.957  14.910000"
      ]
     },
     "execution_count": 107,
     "metadata": {},
     "output_type": "execute_result"
    }
   ],
   "source": [
    "# Distribute outgoing residents and get incoming population for each region\n",
    "incoming_movement = distribute_population(population_data, adjacency)\n",
    "\n",
    "# Add the incoming population data to the DataFrame\n",
    "population_data['Incoming'] = population_data['RegionID'].map(incoming_movement)\n",
    "\n",
    "# Display updated data\n",
    "population_data[['RegionID', 'Population', 'Outgoing', 'Incoming']]"
   ]
  },
  {
   "cell_type": "code",
   "execution_count": 108,
   "id": "aa33f5f5",
   "metadata": {},
   "outputs": [
    {
     "data": {
      "text/html": [
       "<div>\n",
       "<style scoped>\n",
       "    .dataframe tbody tr th:only-of-type {\n",
       "        vertical-align: middle;\n",
       "    }\n",
       "\n",
       "    .dataframe tbody tr th {\n",
       "        vertical-align: top;\n",
       "    }\n",
       "\n",
       "    .dataframe thead th {\n",
       "        text-align: right;\n",
       "    }\n",
       "</style>\n",
       "<table border=\"1\" class=\"dataframe\">\n",
       "  <thead>\n",
       "    <tr style=\"text-align: right;\">\n",
       "      <th></th>\n",
       "      <th>RegionID</th>\n",
       "      <th>Population</th>\n",
       "      <th>Outgoing</th>\n",
       "      <th>Incoming</th>\n",
       "      <th>NewPopulation</th>\n",
       "    </tr>\n",
       "  </thead>\n",
       "  <tbody>\n",
       "    <tr>\n",
       "      <th>0</th>\n",
       "      <td>1</td>\n",
       "      <td>2205</td>\n",
       "      <td>11.025</td>\n",
       "      <td>26.637333</td>\n",
       "      <td>2220.612333</td>\n",
       "    </tr>\n",
       "    <tr>\n",
       "      <th>1</th>\n",
       "      <td>2</td>\n",
       "      <td>3581</td>\n",
       "      <td>42.972</td>\n",
       "      <td>19.515750</td>\n",
       "      <td>3557.543750</td>\n",
       "    </tr>\n",
       "    <tr>\n",
       "      <th>2</th>\n",
       "      <td>3</td>\n",
       "      <td>6019</td>\n",
       "      <td>18.057</td>\n",
       "      <td>40.474000</td>\n",
       "      <td>6041.417000</td>\n",
       "    </tr>\n",
       "    <tr>\n",
       "      <th>3</th>\n",
       "      <td>4</td>\n",
       "      <td>1847</td>\n",
       "      <td>36.940</td>\n",
       "      <td>80.821250</td>\n",
       "      <td>1890.881250</td>\n",
       "    </tr>\n",
       "    <tr>\n",
       "      <th>4</th>\n",
       "      <td>5</td>\n",
       "      <td>4422</td>\n",
       "      <td>19.899</td>\n",
       "      <td>59.187333</td>\n",
       "      <td>4461.288333</td>\n",
       "    </tr>\n",
       "    <tr>\n",
       "      <th>5</th>\n",
       "      <td>6</td>\n",
       "      <td>5230</td>\n",
       "      <td>78.450</td>\n",
       "      <td>22.513250</td>\n",
       "      <td>5174.063250</td>\n",
       "    </tr>\n",
       "    <tr>\n",
       "      <th>6</th>\n",
       "      <td>7</td>\n",
       "      <td>6394</td>\n",
       "      <td>140.668</td>\n",
       "      <td>18.713333</td>\n",
       "      <td>6272.045333</td>\n",
       "    </tr>\n",
       "    <tr>\n",
       "      <th>7</th>\n",
       "      <td>8</td>\n",
       "      <td>2560</td>\n",
       "      <td>25.600</td>\n",
       "      <td>97.297250</td>\n",
       "      <td>2631.697250</td>\n",
       "    </tr>\n",
       "    <tr>\n",
       "      <th>8</th>\n",
       "      <td>9</td>\n",
       "      <td>8510</td>\n",
       "      <td>25.530</td>\n",
       "      <td>46.028500</td>\n",
       "      <td>8530.498500</td>\n",
       "    </tr>\n",
       "    <tr>\n",
       "      <th>9</th>\n",
       "      <td>10</td>\n",
       "      <td>3851</td>\n",
       "      <td>26.957</td>\n",
       "      <td>14.910000</td>\n",
       "      <td>3838.953000</td>\n",
       "    </tr>\n",
       "  </tbody>\n",
       "</table>\n",
       "</div>"
      ],
      "text/plain": [
       "   RegionID  Population  Outgoing   Incoming  NewPopulation\n",
       "0         1        2205    11.025  26.637333    2220.612333\n",
       "1         2        3581    42.972  19.515750    3557.543750\n",
       "2         3        6019    18.057  40.474000    6041.417000\n",
       "3         4        1847    36.940  80.821250    1890.881250\n",
       "4         5        4422    19.899  59.187333    4461.288333\n",
       "5         6        5230    78.450  22.513250    5174.063250\n",
       "6         7        6394   140.668  18.713333    6272.045333\n",
       "7         8        2560    25.600  97.297250    2631.697250\n",
       "8         9        8510    25.530  46.028500    8530.498500\n",
       "9        10        3851    26.957  14.910000    3838.953000"
      ]
     },
     "execution_count": 108,
     "metadata": {},
     "output_type": "execute_result"
    }
   ],
   "source": [
    "# Calculate the new population after movement\n",
    "population_data['NewPopulation'] = population_data['Population'] - population_data['Outgoing'] + population_data['Incoming']\n",
    "\n",
    "# Display the final data\n",
    "population_data[['RegionID', 'Population', 'Outgoing', 'Incoming', 'NewPopulation']]\n"
   ]
  },
  {
   "cell_type": "code",
   "execution_count": 109,
   "id": "bdc90599",
   "metadata": {},
   "outputs": [
    {
     "name": "stdout",
     "output_type": "stream",
     "text": [
      "Initial Population: 44619\n",
      "Final Population: 44619.0\n"
     ]
    }
   ],
   "source": [
    "# Check if total population is conserved\n",
    "initial_population = population_data['Population'].sum()\n",
    "final_population = population_data['NewPopulation'].sum()\n",
    "\n",
    "print(f\"Initial Population: {initial_population}\")\n",
    "print(f\"Final Population: {final_population}\")\n",
    "assert initial_population == final_population, \"Population is not conserved!\""
   ]
  },
  {
   "cell_type": "markdown",
   "id": "03648eb4",
   "metadata": {},
   "source": [
    "## Outgoing and Incoming Population Calculation:\n",
    "1. Outgoing residents were calculated using the formula `Outgoing = Population * MoveProb`.\n",
    "2. Outgoing residents were distributed equally among adjacent regions.\n",
    "3. The new population for each region was updated as `NewPopulation = Population - Outgoing + Incoming`.\n",
    "4. Total population was verified to remain constant before and after the simulation."
   ]
  },
  {
   "cell_type": "markdown",
   "id": "f18106e9",
   "metadata": {},
   "source": [
    "### Population Before and After Movement (Visualization)"
   ]
  },
  {
   "cell_type": "code",
   "execution_count": 110,
   "id": "c815add0",
   "metadata": {},
   "outputs": [
    {
     "data": {
      "image/png": "[encoded data removed]",
      "text/plain": [
       "<Figure size 720x432 with 1 Axes>"
      ]
     },
     "metadata": {
      "needs_background": "light"
     },
     "output_type": "display_data"
    }
   ],
   "source": [
    "# Define bar positions\n",
    "x = np.arange(len(population_data['RegionID']))  # Position for each RegionID\n",
    "width = 0.35  # Width of each bar\n",
    "\n",
    "# Plot side-by-side bars\n",
    "plt.figure(figsize=(10, 6))\n",
    "plt.bar(x - width/2, population_data['Population'], width, label='Initial Population', color='teal', alpha=0.7)\n",
    "plt.bar(x + width/2, population_data['NewPopulation'], width, label='New Population', color='goldenrod', alpha=0.7)\n",
    "\n",
    "# Add labels and titles\n",
    "plt.xlabel('Region ID')\n",
    "plt.ylabel('Population')\n",
    "plt.title(\"Comparison of Population Changes Across Regions After Movement\")\n",
    "plt.xticks(x, population_data['RegionID'])\n",
    "plt.legend()\n",
    "\n",
    "# Display the plot\n",
    "plt.show()\n"
   ]
  },
  {
   "cell_type": "markdown",
   "id": "8044abbb",
   "metadata": {},
   "source": [
    "### Population Before and After Movement by Region\n",
    "This plot provides a comparison between the initial and new population values for each region.\n",
    "Key observations:\n",
    "1. Some regions (e.g., Region 4 and Region 8) experienced population increases after the movement, driven by high incoming residents.\n",
    "2. Regions with high outgoing residents (e.g., Region 7 and Region 6) show a decrease in population.\n",
    "3. Overall, the changes reflect the effect of both outgoing and incoming movement based on the adjacency structure.\n",
    "4. Total population remains consistent across regions, verifying population conservation in the simulation."
   ]
  },
  {
   "cell_type": "markdown",
   "id": "4d79e487",
   "metadata": {},
   "source": [
    "### Outgoing, Incoming, and Net Population Change Visualization"
   ]
  },
  {
   "cell_type": "code",
   "execution_count": 111,
   "id": "b57ac6e3",
   "metadata": {},
   "outputs": [
    {
     "data": {
      "image/png": "[encoded data removed]",
      "text/plain": [
       "<Figure size 864x432 with 1 Axes>"
      ]
     },
     "metadata": {
      "needs_background": "light"
     },
     "output_type": "display_data"
    }
   ],
   "source": [
    "# Calculate net population change \n",
    "population_data['PopulationChange'] = population_data['NewPopulation'] - population_data['Population']\n",
    "\n",
    "# Define bar positions\n",
    "x = np.arange(len(population_data['RegionID']))  # Positions for each Region ID\n",
    "width = 0.25  # Width of each bar\n",
    "\n",
    "# Plot side-by-side bars\n",
    "plt.figure(figsize=(12, 6))\n",
    "plt.bar(x - width, population_data['Outgoing'], width, label='Outgoing Residents', color='salmon', alpha=0.7)\n",
    "plt.bar(x, population_data['Incoming'], width, label='Incoming Residents', color='skyblue', alpha=0.7)\n",
    "plt.bar(x + width, population_data['PopulationChange'], width, label='Net Population Change', color='orange', alpha=0.7)\n",
    "\n",
    "# Add labels and titles\n",
    "plt.xlabel('Region ID')\n",
    "plt.ylabel('Number of Residents')\n",
    "plt.title('Outgoing, Incoming, and Net Population Change by Region')\n",
    "plt.xticks(x, population_data['RegionID'])\n",
    "plt.axhline(y=0, color='gray', linestyle='--')  # Add reference line at zero\n",
    "plt.legend()\n",
    "\n",
    "# Display the plot\n",
    "plt.show()"
   ]
  },
  {
   "cell_type": "markdown",
   "id": "c3c25a99",
   "metadata": {},
   "source": [
    "### Population Movement Analysis\n",
    "\n",
    "This plot provides a side-by-side comparison of outgoing residents, incoming residents, \n",
    "and net population change for each region.\n",
    "\n",
    "Key Observations:\n",
    "1. Regions with high outgoing residents (e.g., Region 7) experienced large population losses, \n",
    "   as indicated by the negative net change (orange bars).\n",
    "2. Regions such as Region 4 and Region 8 received a high number of incoming residents, \n",
    "   resulting in positive net population change.\n",
    "3. The reference line at zero helps distinguish between regions that gained or lost population \n",
    "   during the simulation.\n",
    "4. The balance between outgoing and incoming residents shows how the adjacency structure \n",
    "   and movement probability influenced regional population changes."
   ]
  },
  {
   "cell_type": "markdown",
   "id": "a7a1e54a",
   "metadata": {},
   "source": [
    "## Statistical Testing\n",
    "We want to:\n",
    "\n",
    "Test the impact of movement on population across regions.\n",
    "Determine if the difference between initial population and new population is statistically significant.\n",
    "We'll use a paired t-test, as each region has two related samples:\n",
    "\n",
    "Initial Population (before movement) and \n",
    "New Population (after movement)\n",
    "\n",
    "##### Hypothesis Setup\n",
    "Null Hypothesis (H₀):\n",
    "There is no significant difference between the initial and new population across regions.\n",
    "\n",
    "Alternative Hypothesis (H₁):\n",
    "There is a significant difference between the initial and new population across regions."
   ]
  },
  {
   "cell_type": "code",
   "execution_count": 112,
   "id": "c657ae95",
   "metadata": {},
   "outputs": [
    {
     "name": "stdout",
     "output_type": "stream",
     "text": [
      "T-statistic: 0.00, P-value: 1.00000\n",
      "The population change is not statistically significant (p >= 0.05).\n"
     ]
    }
   ],
   "source": [
    "# Perform paired t-test\n",
    "t_stat, p_value = ttest_rel(population_data['Population'], population_data['NewPopulation'])\n",
    "\n",
    "# Display results\n",
    "print(f\"T-statistic: {t_stat:.2f}, P-value: {p_value:.5f}\")\n",
    "\n",
    "# Interpretation of results\n",
    "if p_value < 0.05:\n",
    "    print(\"The population change is statistically significant (p < 0.05).\")\n",
    "else:\n",
    "    print(\"The population change is not statistically significant (p >= 0.05).\")\n"
   ]
  },
  {
   "cell_type": "markdown",
   "id": "3a0c5405",
   "metadata": {},
   "source": [
    "## Paired T-Test for Population Change\n",
    "\n",
    "### Objective:\n",
    "To determine if the change in population after movement is statistically significant, we conducted a paired t-test. The test compares the initial and new populations across regions to identify if movement had a measurable effect.\n",
    "\n",
    "### Results:\n",
    "- **T-statistic:** 0.00\n",
    "- **P-value:** 1.00000\n",
    "- Since **p >= 0.05**, we fail to reject the null hypothesis. This indicates that the overall population change across regions is **not statistically significant**.\n",
    "\n",
    "### Interpretation:\n",
    "- The lack of statistical significance suggests that, despite movement between regions, the overall population distribution remains stable.\n",
    "- Regions that experienced large population shifts (e.g., Regions 6 and 7) may have been balanced out by changes in other regions.\n",
    "\n",
    "### Insights:\n",
    "1. Population changes were minimal on a system-wide level.\n",
    "2. This stability aligns with expectations in scenarios where only internal movement occurs without significant net gains or losses.\n",
    "3. Localized changes (such as increases in Regions 4 and 8) may still warrant further analysis, despite the overall system showing no significant change."
   ]
  },
  {
   "cell_type": "code",
   "execution_count": 113,
   "id": "5741cdf2",
   "metadata": {},
   "outputs": [
    {
     "data": {
      "image/png": "[encoded data removed]",
      "text/plain": [
       "<Figure size 576x432 with 1 Axes>"
      ]
     },
     "metadata": {
      "needs_background": "light"
     },
     "output_type": "display_data"
    }
   ],
   "source": [
    "# Prepare data for visualization\n",
    "plt.figure(figsize=(8, 6))\n",
    "sns.boxplot(data=[population_data['Population'], population_data['NewPopulation']], palette='Set2')\n",
    "plt.xticks([0, 1], ['Initial Population', 'New Population'])\n",
    "plt.title('Population Before and After Movement')\n",
    "plt.ylabel('Population')\n",
    "plt.show()\n"
   ]
  },
  {
   "cell_type": "markdown",
   "id": "e56cdfff",
   "metadata": {},
   "source": [
    "## Boxplot Comparison: Population Before and After Movement\n",
    "\n",
    "### Objective:\n",
    "This boxplot compares the distribution of the population across regions before and after movement. The goal is to observe any significant shifts in the central tendency, spread, or outliers between the two distributions.\n",
    "\n",
    "### Key Observations:\n",
    "1. **Similar Medians:** Both the initial and new population distributions have similar median values, indicating no major shifts in central tendency.\n",
    "2. **Stable Spread:** The interquartile range (IQR) and overall spread remain consistent across the two populations, suggesting that population movement did not create drastic changes across regions.\n",
    "3. **No Significant Outliers:** Both distributions lack extreme outliers, further supporting the result from the paired t-test that the population changes were not statistically significant.\n",
    "\n",
    "### Insights:\n",
    "- The boxplot supports the conclusion that, while localized changes may have occurred, the overall population distribution remains stable.\n",
    "- In scenarios where only internal movement is simulated, significant changes are unlikely unless influenced by external factors or extended over multiple time periods."
   ]
  },
  {
   "cell_type": "code",
   "execution_count": 114,
   "id": "c6bc079e",
   "metadata": {},
   "outputs": [
    {
     "name": "stdout",
     "output_type": "stream",
     "text": [
      "Regions with the largest population changes:\n"
     ]
    },
    {
     "data": {
      "text/html": [
       "<div>\n",
       "<style scoped>\n",
       "    .dataframe tbody tr th:only-of-type {\n",
       "        vertical-align: middle;\n",
       "    }\n",
       "\n",
       "    .dataframe tbody tr th {\n",
       "        vertical-align: top;\n",
       "    }\n",
       "\n",
       "    .dataframe thead th {\n",
       "        text-align: right;\n",
       "    }\n",
       "</style>\n",
       "<table border=\"1\" class=\"dataframe\">\n",
       "  <thead>\n",
       "    <tr style=\"text-align: right;\">\n",
       "      <th></th>\n",
       "      <th>RegionID</th>\n",
       "      <th>PopulationChange</th>\n",
       "    </tr>\n",
       "  </thead>\n",
       "  <tbody>\n",
       "    <tr>\n",
       "      <th>6</th>\n",
       "      <td>7</td>\n",
       "      <td>-121.954667</td>\n",
       "    </tr>\n",
       "    <tr>\n",
       "      <th>7</th>\n",
       "      <td>8</td>\n",
       "      <td>71.697250</td>\n",
       "    </tr>\n",
       "    <tr>\n",
       "      <th>5</th>\n",
       "      <td>6</td>\n",
       "      <td>-55.936750</td>\n",
       "    </tr>\n",
       "    <tr>\n",
       "      <th>3</th>\n",
       "      <td>4</td>\n",
       "      <td>43.881250</td>\n",
       "    </tr>\n",
       "    <tr>\n",
       "      <th>4</th>\n",
       "      <td>5</td>\n",
       "      <td>39.288333</td>\n",
       "    </tr>\n",
       "  </tbody>\n",
       "</table>\n",
       "</div>"
      ],
      "text/plain": [
       "   RegionID  PopulationChange\n",
       "6         7       -121.954667\n",
       "7         8         71.697250\n",
       "5         6        -55.936750\n",
       "3         4         43.881250\n",
       "4         5         39.288333"
      ]
     },
     "execution_count": 114,
     "metadata": {},
     "output_type": "execute_result"
    }
   ],
   "source": [
    "# Identify regions with largest changes\n",
    "population_data['AbsoluteChange'] = abs(population_data['PopulationChange'])\n",
    "significant_regions = population_data.sort_values(by='AbsoluteChange', ascending=False).head()\n",
    "\n",
    "print(\"Regions with the largest population changes:\")\n",
    "significant_regions[['RegionID', 'PopulationChange']]"
   ]
  },
  {
   "cell_type": "markdown",
   "id": "a6345ab2",
   "metadata": {},
   "source": [
    "## Regions with the Largest Population Changes\n",
    "\n",
    "### Objective:\n",
    "To identify which regions experienced the largest shifts in population due to movement. This analysis highlights regions with both significant population gains and losses.\n",
    "\n",
    "### Results:\n",
    "The regions with the largest absolute population changes are as follows:\n",
    "1. **Region 7:** Experienced the largest population loss of **-121.95** residents.\n",
    "2. **Region 8:** Gained **71.70** residents, the highest increase among all regions.\n",
    "3. **Region 6:** Lost **55.94** residents, indicating another significant population decline.\n",
    "4. **Region 4:** Gained **43.88** residents, driven by a high number of incoming residents.\n",
    "5. **Region 5:** Gained **39.29** residents due to increased movement into the region.\n",
    "\n",
    "### Key Observations:\n",
    "1. **Population Gains:** Regions **4, 5, and 8** benefited from incoming residents, leading to notable population growth.\n",
    "2. **Population Losses:** Regions **7 and 6** experienced large population decreases, likely influenced by both high outgoing movement and fewer incoming residents.\n",
    "3. **Localized Impact:** Despite these changes, the overall system-wide population change remains stable, as indicated by previous statistical tests.\n",
    "\n",
    "### Insights:\n",
    "- These changes suggest that regions with higher `MoveProb` values (e.g., Region 7) are more susceptible to population declines unless countered by strong incoming movement.\n",
    "- Regions with strong adjacency networks (e.g., Regions 4 and 8) attract higher incoming residents, leading to net gains in population."
   ]
  },
  {
   "cell_type": "markdown",
   "id": "f67a990c",
   "metadata": {},
   "source": [
    "## Weighted Distribution"
   ]
  },
  {
   "cell_type": "code",
   "execution_count": 115,
   "id": "ad15a655",
   "metadata": {},
   "outputs": [],
   "source": [
    "def distribute_weighted_population(population_data, adjacency):\n",
    "    # Initialize incoming residents dictionary\n",
    "    incoming_weighted = {region: 0 for region in population_data['RegionID']}\n",
    "    \n",
    "    # Loop through each region\n",
    "    for _, row in population_data.iterrows():\n",
    "        region_id = row['RegionID']\n",
    "        outgoing = row['Outgoing']\n",
    "        adj_regions = adjacency[region_id]\n",
    "\n",
    "        # Skip if there are no adjacent regions\n",
    "        if adj_regions:\n",
    "            # Calculate the total population of adjacent regions\n",
    "            total_adj_pop = population_data.loc[population_data['RegionID'].isin(adj_regions), 'Population'].sum()\n",
    "\n",
    "            # Distribute outgoing residents based on the population of adjacent regions\n",
    "            for adj_region in adj_regions:\n",
    "                adj_pop = population_data.loc[population_data['RegionID'] == adj_region, 'Population'].values[0]\n",
    "                # Add the proportional share of outgoing residents to the incoming residents of the adjacent region\n",
    "                incoming_weighted[adj_region] += outgoing * (adj_pop / total_adj_pop)\n",
    "\n",
    "    return incoming_weighted\n"
   ]
  },
  {
   "cell_type": "code",
   "execution_count": 116,
   "id": "74eab471",
   "metadata": {},
   "outputs": [],
   "source": [
    "# Apply the weighted distribution function\n",
    "incoming_weighted = distribute_weighted_population(population_data, adjacency)\n",
    "\n",
    "# Add the results to the DataFrame\n",
    "population_data['IncomingWeighted'] = population_data['RegionID'].map(incoming_weighted)\n",
    "\n",
    "# Calculate new population after weighted movement\n",
    "population_data['NewPopulationWeighted'] = (\n",
    "    population_data['Population'] - population_data['Outgoing'] + population_data['IncomingWeighted']\n",
    ")"
   ]
  },
  {
   "cell_type": "code",
   "execution_count": 117,
   "id": "e697c9b2",
   "metadata": {},
   "outputs": [
    {
     "data": {
      "text/html": [
       "<div>\n",
       "<style scoped>\n",
       "    .dataframe tbody tr th:only-of-type {\n",
       "        vertical-align: middle;\n",
       "    }\n",
       "\n",
       "    .dataframe tbody tr th {\n",
       "        vertical-align: top;\n",
       "    }\n",
       "\n",
       "    .dataframe thead th {\n",
       "        text-align: right;\n",
       "    }\n",
       "</style>\n",
       "<table border=\"1\" class=\"dataframe\">\n",
       "  <thead>\n",
       "    <tr style=\"text-align: right;\">\n",
       "      <th></th>\n",
       "      <th>RegionID</th>\n",
       "      <th>Population</th>\n",
       "      <th>NewPopulation</th>\n",
       "      <th>NewPopulationWeighted</th>\n",
       "      <th>Difference</th>\n",
       "    </tr>\n",
       "  </thead>\n",
       "  <tbody>\n",
       "    <tr>\n",
       "      <th>0</th>\n",
       "      <td>1</td>\n",
       "      <td>2205</td>\n",
       "      <td>2220.612333</td>\n",
       "      <td>2207.723233</td>\n",
       "      <td>-12.889101</td>\n",
       "    </tr>\n",
       "    <tr>\n",
       "      <th>1</th>\n",
       "      <td>2</td>\n",
       "      <td>3581</td>\n",
       "      <td>3557.543750</td>\n",
       "      <td>3558.031294</td>\n",
       "      <td>0.487544</td>\n",
       "    </tr>\n",
       "    <tr>\n",
       "      <th>2</th>\n",
       "      <td>3</td>\n",
       "      <td>6019</td>\n",
       "      <td>6041.417000</td>\n",
       "      <td>6046.312379</td>\n",
       "      <td>4.895379</td>\n",
       "    </tr>\n",
       "    <tr>\n",
       "      <th>3</th>\n",
       "      <td>4</td>\n",
       "      <td>1847</td>\n",
       "      <td>1890.881250</td>\n",
       "      <td>1875.546865</td>\n",
       "      <td>-15.334385</td>\n",
       "    </tr>\n",
       "    <tr>\n",
       "      <th>4</th>\n",
       "      <td>5</td>\n",
       "      <td>4422</td>\n",
       "      <td>4461.288333</td>\n",
       "      <td>4452.861990</td>\n",
       "      <td>-8.426343</td>\n",
       "    </tr>\n",
       "    <tr>\n",
       "      <th>5</th>\n",
       "      <td>6</td>\n",
       "      <td>5230</td>\n",
       "      <td>5174.063250</td>\n",
       "      <td>5181.611662</td>\n",
       "      <td>7.548412</td>\n",
       "    </tr>\n",
       "    <tr>\n",
       "      <th>6</th>\n",
       "      <td>7</td>\n",
       "      <td>6394</td>\n",
       "      <td>6272.045333</td>\n",
       "      <td>6278.533945</td>\n",
       "      <td>6.488611</td>\n",
       "    </tr>\n",
       "    <tr>\n",
       "      <th>7</th>\n",
       "      <td>8</td>\n",
       "      <td>2560</td>\n",
       "      <td>2631.697250</td>\n",
       "      <td>2631.815468</td>\n",
       "      <td>0.118218</td>\n",
       "    </tr>\n",
       "    <tr>\n",
       "      <th>8</th>\n",
       "      <td>9</td>\n",
       "      <td>8510</td>\n",
       "      <td>8530.498500</td>\n",
       "      <td>8549.820899</td>\n",
       "      <td>19.322399</td>\n",
       "    </tr>\n",
       "    <tr>\n",
       "      <th>9</th>\n",
       "      <td>10</td>\n",
       "      <td>3851</td>\n",
       "      <td>3838.953000</td>\n",
       "      <td>3836.742265</td>\n",
       "      <td>-2.210735</td>\n",
       "    </tr>\n",
       "  </tbody>\n",
       "</table>\n",
       "</div>"
      ],
      "text/plain": [
       "   RegionID  Population  NewPopulation  NewPopulationWeighted  Difference\n",
       "0         1        2205    2220.612333            2207.723233  -12.889101\n",
       "1         2        3581    3557.543750            3558.031294    0.487544\n",
       "2         3        6019    6041.417000            6046.312379    4.895379\n",
       "3         4        1847    1890.881250            1875.546865  -15.334385\n",
       "4         5        4422    4461.288333            4452.861990   -8.426343\n",
       "5         6        5230    5174.063250            5181.611662    7.548412\n",
       "6         7        6394    6272.045333            6278.533945    6.488611\n",
       "7         8        2560    2631.697250            2631.815468    0.118218\n",
       "8         9        8510    8530.498500            8549.820899   19.322399\n",
       "9        10        3851    3838.953000            3836.742265   -2.210735"
      ]
     },
     "execution_count": 117,
     "metadata": {},
     "output_type": "execute_result"
    }
   ],
   "source": [
    "# Create a comparison table\n",
    "comparison_table = population_data[['RegionID', 'Population', 'NewPopulation', 'NewPopulationWeighted']].copy()\n",
    "comparison_table['Difference'] = comparison_table['NewPopulationWeighted'] - comparison_table['NewPopulation']\n",
    "comparison_table"
   ]
  },
  {
   "cell_type": "markdown",
   "id": "80019257",
   "metadata": {},
   "source": [
    "### Comparison of Equal and Weighted Distribution Methods"
   ]
  },
  {
   "cell_type": "code",
   "execution_count": 118,
   "id": "fc545613",
   "metadata": {},
   "outputs": [
    {
     "data": {
      "image/png": "[encoded data removed]",
      "text/plain": [
       "<Figure size 864x432 with 1 Axes>"
      ]
     },
     "metadata": {
      "needs_background": "light"
     },
     "output_type": "display_data"
    }
   ],
   "source": [
    "# Define positions and width for bars\n",
    "x = np.arange(len(population_data['RegionID']))\n",
    "width = 0.3\n",
    "\n",
    "# Plot side-by-side comparison\n",
    "plt.figure(figsize=(12, 6))\n",
    "plt.bar(x - width/2, population_data['NewPopulation'], width, label='Equal Distribution', color='teal')\n",
    "plt.bar(x + width/2, population_data['NewPopulationWeighted'], width, label='Weighted Distribution', color='goldenrod')\n",
    "\n",
    "# Add labels and title\n",
    "plt.xlabel('Region ID')\n",
    "plt.ylabel('Population')\n",
    "plt.title('Comparison of Population After Equal vs. Weighted Distribution')\n",
    "plt.xticks(x, population_data['RegionID'])\n",
    "plt.legend()\n",
    "\n",
    "plt.show()\n"
   ]
  },
  {
   "cell_type": "markdown",
   "id": "8901fe15",
   "metadata": {},
   "source": [
    "## Comparison of Population Changes: Equal vs. Weighted Distribution\n",
    "\n",
    "### Objective:\n",
    "This plot compares the **New Population** values under two scenarios:\n",
    "1. **Equal Distribution:** Outgoing residents are distributed equally among all adjacent regions.\n",
    "2. **Weighted Distribution:** Outgoing residents are distributed based on the population size of adjacent regions.\n",
    "\n",
    "### Key Observations:\n",
    "1. **Regions with Larger Populations:**\n",
    "   - Regions with higher initial populations attract more incoming residents under weighted distribution.\n",
    "   - This leads to larger population gains compared to the equal distribution method.\n",
    "\n",
    "2. **Regions with Smaller Populations:**\n",
    "   - Smaller regions receive fewer incoming residents under the weighted distribution method, resulting in lower population growth or even net losses.\n",
    "\n",
    "3. **Stability:**  \n",
    "   - Regions with balanced adjacency populations show minimal differences between the two methods (e.g., Regions 4 and 6).\n",
    "\n",
    "4. **Visual Insight:**  \n",
    "   - The difference between the methods is more evident in regions with significant adjacency size imbalances, indicating that weighted movement better reflects real-world migration patterns.\n",
    "\n",
    "### Conclusion:\n",
    "Weighted distribution introduces more variability in population changes across regions, emphasizing the importance of adjacency characteristics in movement modeling. This approach is more aligned with scenarios where larger regions have greater pull for incoming residents.\n"
   ]
  },
  {
   "cell_type": "markdown",
   "id": "c1f0d367",
   "metadata": {},
   "source": [
    "Hypothesis Setup\n",
    "Null Hypothesis (H₀):\n",
    "There is no significant difference between the new populations under equal and weighted distribution.\n",
    "\n",
    "Alternative Hypothesis (H₁):\n",
    "There is a significant difference between the new populations under the two distribution methods."
   ]
  },
  {
   "cell_type": "code",
   "execution_count": 120,
   "id": "72a0144c",
   "metadata": {},
   "outputs": [
    {
     "name": "stdout",
     "output_type": "stream",
     "text": [
      "T-statistic: 0.00, P-value: 1.00000\n",
      "The difference between equal and weighted distribution is not statistically significant (p >= 0.05).\n"
     ]
    }
   ],
   "source": [
    "# Perform paired t-test on New Population values\n",
    "t_stat, p_value = ttest_rel(\n",
    "    population_data['NewPopulation'], \n",
    "    population_data['NewPopulationWeighted']\n",
    ")\n",
    "\n",
    "# Display the results\n",
    "print(f\"T-statistic: {t_stat:.2f}, P-value: {p_value:.5f}\")\n",
    "\n",
    "# Interpretation\n",
    "if p_value < 0.05:\n",
    "    print(\"The difference between equal and weighted distribution is statistically significant (p < 0.05).\")\n",
    "else:\n",
    "    print(\"The difference between equal and weighted distribution is not statistically significant (p >= 0.05).\")\n"
   ]
  },
  {
   "cell_type": "markdown",
   "id": "2b53bad8",
   "metadata": {},
   "source": [
    "## Paired T-Test: Equal vs. Weighted Distribution\n",
    "\n",
    "### Objective:\n",
    "To determine if the difference between equal and weighted distribution methods is statistically significant.\n",
    "\n",
    "### Hypothesis:\n",
    "- **Null Hypothesis (H₀):** There is no significant difference between the two methods.\n",
    "- **Alternative Hypothesis (H₁):** There is a significant difference between the two methods.\n",
    "\n",
    "### Results:\n",
    "- **T-statistic:** 0.00\n",
    "- **P-value:** 1.00000\n",
    "- Since **p ≥ 0.05**, we fail to reject the null hypothesis. This indicates that there is **no statistically significant difference** between the population changes under equal and weighted distribution.\n",
    "\n",
    "### Interpretation:\n",
    "1. Both methods produced **similar population outcomes**, meaning the choice of distribution strategy (equal vs. weighted) does not significantly impact the final population changes.\n",
    "2. Although the weighted method theoretically accounts for population-based movement, this analysis suggests that the differences in regional population size were not substantial enough to drive significantly different results.\n",
    "\n",
    "### Insights:\n",
    "- While the statistical test suggests minimal differences, localized changes may still warrant further analysis.\n",
    "- In scenarios with greater variability in regional populations or movement probabilities, a weighted distribution may have a more pronounced impact."
   ]
  },
  {
   "cell_type": "code",
   "execution_count": 121,
   "id": "2cd7aaf2",
   "metadata": {},
   "outputs": [
    {
     "data": {
      "text/html": [
       "<div>\n",
       "<style scoped>\n",
       "    .dataframe tbody tr th:only-of-type {\n",
       "        vertical-align: middle;\n",
       "    }\n",
       "\n",
       "    .dataframe tbody tr th {\n",
       "        vertical-align: top;\n",
       "    }\n",
       "\n",
       "    .dataframe thead th {\n",
       "        text-align: right;\n",
       "    }\n",
       "</style>\n",
       "<table border=\"1\" class=\"dataframe\">\n",
       "  <thead>\n",
       "    <tr style=\"text-align: right;\">\n",
       "      <th></th>\n",
       "      <th>Region ID</th>\n",
       "      <th>Initial Population</th>\n",
       "      <th>Population (Equal Distribution)</th>\n",
       "      <th>Population (Weighted Distribution)</th>\n",
       "      <th>Difference (Weighted - Equal)</th>\n",
       "    </tr>\n",
       "  </thead>\n",
       "  <tbody>\n",
       "    <tr>\n",
       "      <th>8</th>\n",
       "      <td>9</td>\n",
       "      <td>8510</td>\n",
       "      <td>8530.498500</td>\n",
       "      <td>8549.820899</td>\n",
       "      <td>19.322399</td>\n",
       "    </tr>\n",
       "    <tr>\n",
       "      <th>3</th>\n",
       "      <td>4</td>\n",
       "      <td>1847</td>\n",
       "      <td>1890.881250</td>\n",
       "      <td>1875.546865</td>\n",
       "      <td>-15.334385</td>\n",
       "    </tr>\n",
       "    <tr>\n",
       "      <th>0</th>\n",
       "      <td>1</td>\n",
       "      <td>2205</td>\n",
       "      <td>2220.612333</td>\n",
       "      <td>2207.723233</td>\n",
       "      <td>-12.889101</td>\n",
       "    </tr>\n",
       "    <tr>\n",
       "      <th>4</th>\n",
       "      <td>5</td>\n",
       "      <td>4422</td>\n",
       "      <td>4461.288333</td>\n",
       "      <td>4452.861990</td>\n",
       "      <td>-8.426343</td>\n",
       "    </tr>\n",
       "    <tr>\n",
       "      <th>5</th>\n",
       "      <td>6</td>\n",
       "      <td>5230</td>\n",
       "      <td>5174.063250</td>\n",
       "      <td>5181.611662</td>\n",
       "      <td>7.548412</td>\n",
       "    </tr>\n",
       "  </tbody>\n",
       "</table>\n",
       "</div>"
      ],
      "text/plain": [
       "   Region ID  Initial Population  Population (Equal Distribution)  \\\n",
       "8          9                8510                      8530.498500   \n",
       "3          4                1847                      1890.881250   \n",
       "0          1                2205                      2220.612333   \n",
       "4          5                4422                      4461.288333   \n",
       "5          6                5230                      5174.063250   \n",
       "\n",
       "   Population (Weighted Distribution)  Difference (Weighted - Equal)  \n",
       "8                         8549.820899                      19.322399  \n",
       "3                         1875.546865                     -15.334385  \n",
       "0                         2207.723233                     -12.889101  \n",
       "4                         4452.861990                      -8.426343  \n",
       "5                         5181.611662                       7.548412  "
      ]
     },
     "execution_count": 121,
     "metadata": {},
     "output_type": "execute_result"
    }
   ],
   "source": [
    "# Summary of regions with the largest population changes\n",
    "summary_table = comparison_table[['RegionID', 'Population', 'NewPopulation', 'NewPopulationWeighted', 'Difference']]\n",
    "summary_table = summary_table.sort_values(by='Difference', key=abs, ascending=False).head(5)\n",
    "\n",
    "# Rename columns for better readability\n",
    "summary_table.columns = [\n",
    "    'Region ID', 'Initial Population', 'Population (Equal Distribution)',\n",
    "    'Population (Weighted Distribution)', 'Difference (Weighted - Equal)'\n",
    "]\n",
    "\n",
    "# Display the summary table\n",
    "summary_table"
   ]
  },
  {
   "cell_type": "markdown",
   "id": "54b18915",
   "metadata": {},
   "source": [
    "### Summary Table of Largest Regional Population Changes\n",
    "\n",
    "The table below highlights the regions with the most significant population changes between the **equal** and **weighted** distribution methods.\n",
    "\n",
    "| **Region ID** | **Initial Population** | **Population (Equal Distribution)** | **Population (Weighted Distribution)** | **Difference (Weighted - Equal)** |\n",
    "|---------------|-------------------------|--------------------------------------|-----------------------------------------|-----------------------------------|\n",
    "| 9             | 8,510                   | 8,530.50                             | 8,549.82                                | +19.32                            |\n",
    "| 4             | 1,847                   | 1,890.88                             | 1,875.55                                | -15.33                            |\n",
    "| 1             | 2,205                   | 2,220.61                             | 2,207.72                                | -12.89                            |\n",
    "| 5             | 4,422                   | 4,461.29                             | 4,452.86                                | -8.43                             |\n",
    "| 6             | 5,230                   | 5,174.06                             | 5,181.61                                | +7.55                              |\n",
    "\n",
    "---\n",
    "\n",
    "### **Key Insights:**\n",
    "1. **Regions with the Largest Changes:**  \n",
    "   - Region 9 experienced the largest net population gain of **+19.32 residents** under the weighted method.\n",
    "   - Region 4 had a net population decrease of **-15.33 residents** compared to equal distribution.\n",
    "\n",
    "2. **Weighted vs. Equal Distribution:**  \n",
    "   - The weighted method created localized variations, but these changes were relatively small across all regions.\n",
    "   \n",
    "3. **System Stability:**  \n",
    "   - Despite these localized changes, the system remained stable with no statistically significant difference between the two methods.\n"
   ]
  },
  {
   "cell_type": "markdown",
   "id": "2a02a701",
   "metadata": {},
   "source": [
    "## Final Conclusion\n",
    "\n",
    "### Summary of Findings:\n",
    "This analysis assessed population movement across regions under two distribution models:\n",
    "1. **Equal Distribution:** Outgoing residents were divided equally among adjacent regions.\n",
    "2. **Weighted Distribution:** Outgoing residents were distributed proportionally based on the population size of adjacent regions.\n",
    "\n",
    "The results indicate that both models yielded **similar outcomes**, with no statistically significant differences detected (p = 1.000). This suggests that under current conditions, the choice of distribution method has minimal impact on overall population changes.\n",
    "\n",
    "### Key Insights:\n",
    "- Regions with larger populations attracted more residents under the weighted method, but these differences were not substantial enough to influence overall system dynamics.\n",
    "- Localized changes were observed in some regions; however, population movement trends remained stable across the system.\n",
    "\n",
    "\n",
    "### Business Impact:\n",
    "This analysis offers valuable insights to OKI by highlighting how population shifts may affect infrastructure and transportation needs. Key findings about regions with high movement activity can guide targeted resource allocation and long-term planning strategies. Stable regions may require less frequent monitoring, while regions with dynamic population changes warrant further analysis to identify underlying drivers.\n",
    "\n",
    "\n",
    "## Limitations of the Analysis:\n",
    "\n",
    "1. **Static Movement Assumptions:**  \n",
    "   The model assumes constant movement probabilities. In reality, factors such as economic development, infrastructure, and social policies may influence migration patterns dynamically over time.\n",
    "\n",
    "2. **Simplified Weighted Distribution:**  \n",
    "   The weighted method only accounts for regional population size. Other important factors like distance between regions, availability of resources, or attractiveness for migration were not included.\n",
    "\n",
    "3. **Single Time-Period Simulation:**  \n",
    "   The analysis was conducted for a single period. Long-term simulations could provide a more comprehensive view of population trends and movement patterns.\n",
    "\n",
    "4. **Data Scope:**  \n",
    "   The absence of geospatial coordinates limited the ability to perform detailed geographic analysis of regional movement.\n",
    "\n",
    "## Recommendations for Future Research and Planning:\n",
    "\n",
    "1. **Incorporate Dynamic Factors:**  \n",
    "   Future models should account for economic indicators, transportation infrastructure, and social factors to better reflect real-world migration behavior.\n",
    "\n",
    "2. **Conduct Multi-Year Simulations:**  \n",
    "   Long-term simulations can provide valuable insights into recurring trends, helping policymakers plan for future transportation, housing, and infrastructure needs.\n",
    "\n",
    "3. **Enhance Geospatial Analysis:**  \n",
    "   Mapping population movement across regions will offer a clearer visualization of areas with significant growth or decline, improving decision-making for regional development.\n",
    "\n",
    "4. **Sensitivity Testing:**  \n",
    "   Further analysis with varied movement probabilities or larger disparities in population size may reveal more significant differences between distribution methods.\n",
    "\n",
    "\n",
    "### **Next Steps:**  \n",
    "This analysis forms a foundation for data-driven regional planning. By refining the model with dynamic, real-world factors and conducting further simulations, OKI can enhance its understanding of population trends and better support its strategic objectives for transportation and infrastructure development.\n"
   ]
  }
 ],
 "metadata": {
  "kernelspec": {
   "display_name": "Python 3 (ipykernel)",
   "language": "python",
   "name": "python3"
  },
  "language_info": {
   "codemirror_mode": {
    "name": "ipython",
    "version": 3
   },
   "file_extension": ".py",
   "mimetype": "text/x-python",
   "name": "python",
   "nbconvert_exporter": "python",
   "pygments_lexer": "ipython3",
   "version": "3.9.12"
  }
 },
 "nbformat": 4,
 "nbformat_minor": 5
}
